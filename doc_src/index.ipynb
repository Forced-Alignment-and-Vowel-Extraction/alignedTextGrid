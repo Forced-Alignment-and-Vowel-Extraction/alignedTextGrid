{
 "cells": [
  {
   "attachments": {},
   "cell_type": "markdown",
   "metadata": {},
   "source": [
    "# aligned_textgrid\n",
    "\n",
    "The goal of this package is to make the hierarchical and precedence relationships in \n",
    "TextGrids produced by forced alignment accessable and leverageable for analysis\n",
    "or recoding. Some use cases could be\n",
    "\n",
    "- You want to quickly loop through the Phone tier of a Textgrid, and *also* access information about the word it is a part of.\n",
    "- You want to quickly loop over the Word tier of a Textgrid and quickly count how many phones it has.\n",
    "- You want to programmatically merge together adjacent Textgrid intervals.\n",
    "\n",
    "To learn more about usage, see the [Usage notes](usage/)"
   ]
  },
  {
   "attachments": {},
   "cell_type": "markdown",
   "metadata": {},
   "source": [
    "To install `aligned_textgrid`: \n",
    "\n",
    "```bash\n",
    "pip install git+https://github.com/Forced-Alignment-and-Vowel-Extraction/alignedTextGrid/\n",
    "```"
   ]
  }
 ],
 "metadata": {
  "kernelspec": {
   "display_name": "venv",
   "language": "python",
   "name": "python3"
  },
  "language_info": {
   "codemirror_mode": {
    "name": "ipython",
    "version": 3
   },
   "file_extension": ".py",
   "mimetype": "text/x-python",
   "name": "python",
   "nbconvert_exporter": "python",
   "pygments_lexer": "ipython3",
   "version": "3.10.7"
  },
  "orig_nbformat": 4
 },
 "nbformat": 4,
 "nbformat_minor": 2
}
