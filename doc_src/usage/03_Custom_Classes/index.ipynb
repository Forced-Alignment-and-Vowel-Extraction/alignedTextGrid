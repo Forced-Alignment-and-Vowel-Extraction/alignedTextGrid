{
 "cells": [
  {
   "attachments": {},
   "cell_type": "markdown",
   "metadata": {},
   "source": [
    "# Customizing Sequence Interval Classes\n",
    "\n",
    "The core class in aligned-textgrid is the `SequenceInterval` from which new sequence interval classes can be subclassed. The `Word` and `Phone` classes are, themselves, subclasses of `SequenceInterval`."
   ]
  },
  {
   "cell_type": "code",
   "execution_count": 1,
   "metadata": {},
   "outputs": [
    {
     "data": {
      "text/plain": [
       "True"
      ]
     },
     "execution_count": 1,
     "metadata": {},
     "output_type": "execute_result"
    }
   ],
   "source": [
    "from aligned_textgrid import AlignedTextGrid\n",
    "from aligned_textgrid import SequenceInterval\n",
    "from aligned_textgrid import Word, Phone\n",
    "from aligned_textgrid import custom_classes\n",
    "\n",
    "issubclass(Word, SequenceInterval)"
   ]
  },
  {
   "attachments": {},
   "cell_type": "markdown",
   "metadata": {},
   "source": [
    "The most important information every sequence interval class has is its `.superset_class` and `.subset_class`, which needs to be another (but different!) `SequenceInterval` subclass."
   ]
  },
  {
   "cell_type": "code",
   "execution_count": 2,
   "metadata": {},
   "outputs": [
    {
     "data": {
      "text/plain": [
       "aligned_textgrid.sequences.word_and_phone.Phone"
      ]
     },
     "execution_count": 2,
     "metadata": {},
     "output_type": "execute_result"
    }
   ],
   "source": [
    "Word.subset_class"
   ]
  },
  {
   "cell_type": "code",
   "execution_count": 3,
   "metadata": {},
   "outputs": [
    {
     "data": {
      "text/plain": [
       "aligned_textgrid.sequences.word_and_phone.Word"
      ]
     },
     "execution_count": 3,
     "metadata": {},
     "output_type": "execute_result"
    }
   ],
   "source": [
    "Phone.superset_class"
   ]
  },
  {
   "cell_type": "code",
   "execution_count": 4,
   "metadata": {},
   "outputs": [
    {
     "data": {
      "text/plain": [
       "aligned_textgrid.sequences.sequences.Bottom"
      ]
     },
     "execution_count": 4,
     "metadata": {},
     "output_type": "execute_result"
    }
   ],
   "source": [
    "Word.subset_class.subset_class"
   ]
  },
  {
   "attachments": {},
   "cell_type": "markdown",
   "metadata": {},
   "source": [
    "## Creating custom classes with `custom_classes`\n",
    "\n",
    "If you don't want or need any additional bells and whistles beyond [what `SequenceInterval` already provides](../../reference/aligned_textgrid/sequences/sequences/#aligned_textgrid.sequences.sequences.SequenceInterval), you can just use the `custom_classes()` function. For example, if you wanted your own interval classes for a Word, Syllable, and Phone:"
   ]
  },
  {
   "cell_type": "code",
   "execution_count": 5,
   "metadata": {},
   "outputs": [],
   "source": [
    "MyWord, Syllable, MyPhone = custom_classes(\n",
    "    class_list=[\"MyWord\", \"Syllable\", \"Phone\"]\n",
    ")"
   ]
  },
  {
   "cell_type": "code",
   "execution_count": 6,
   "metadata": {},
   "outputs": [
    {
     "data": {
      "text/plain": [
       "[aligned_textgrid.custom_classes.Syllable,\n",
       " aligned_textgrid.custom_classes.MyWord]"
      ]
     },
     "execution_count": 6,
     "metadata": {},
     "output_type": "execute_result"
    }
   ],
   "source": [
    "[MyWord.subset_class, Syllable.superset_class]"
   ]
  },
  {
   "attachments": {},
   "cell_type": "markdown",
   "metadata": {},
   "source": [
    "The reciprocal `.subset_class` and `.superset_class` relationships will be set from left to right for the class names provided to `class_list`.\n",
    "\n",
    "### Using `custom_classes()` when creating an `AlignedTextGrid`\n",
    "\n",
    "The `custom_classes()` returns a list of sequence interval classes, which is also a requried input when creating a new `AlignedTextGrid` object, so you you could create the new sequence interval classes on the fly.\n",
    "\n",
    "Let's say you began with [this textgrid](../resources/spritely.TextGrid) representing the syllable structure of a word:\n",
    "\n",
    "![syllable structure textgrid](../resources/spritely.png)\n",
    "\n",
    "You could create an `AlignedTextGrid` object like so:"
   ]
  },
  {
   "cell_type": "code",
   "execution_count": 7,
   "metadata": {},
   "outputs": [],
   "source": [
    "spritely = AlignedTextGrid(\n",
    "    textgrid_path = \"../resources/spritely.TextGrid\",\n",
    "    entry_classes = custom_classes(\n",
    "        class_list = [\"PrWord\", \"Foot\", \"Syl\", \"OnsetRime\", \"SylPart\", \"Phone\"]\n",
    "    )\n",
    ")"
   ]
  },
  {
   "attachments": {},
   "cell_type": "markdown",
   "metadata": {},
   "source": [
    "We can see that the textgrid was successfully parsed by printing `spritely`."
   ]
  },
  {
   "cell_type": "code",
   "execution_count": 8,
   "metadata": {},
   "outputs": [
    {
     "name": "stdout",
     "output_type": "stream",
     "text": [
      "AlignedTextGrid with 1 groups, each with [6] tiers. [['PrWord', 'Foot', 'Syl', 'OnsetRime', 'SylPart', 'Phone']]\n"
     ]
    }
   ],
   "source": [
    "print(spritely)"
   ]
  },
  {
   "attachments": {},
   "cell_type": "markdown",
   "metadata": {},
   "source": [
    "Within the first tier group, the tier with index `4` is the `SylPart` tier. Printing it, we can see that its superset class has been set to `OnsetRime` and its subset class has been set to `Phone`."
   ]
  },
  {
   "cell_type": "code",
   "execution_count": 9,
   "metadata": {},
   "outputs": [
    {
     "name": "stdout",
     "output_type": "stream",
     "text": [
      "Sequence tier of SylPart; .superset_class: OnsetRime; .subset_class: Phone\n"
     ]
    }
   ],
   "source": [
    "print(spritely[0][4])"
   ]
  },
  {
   "attachments": {},
   "cell_type": "markdown",
   "metadata": {},
   "source": [
    "We can look at the labels for this tier:"
   ]
  },
  {
   "cell_type": "code",
   "execution_count": 10,
   "metadata": {},
   "outputs": [
    {
     "name": "stdout",
     "output_type": "stream",
     "text": [
      "['', 'Onset', 'Nucleus', 'Coda', 'Onset', 'Nucleus', '']\n"
     ]
    }
   ],
   "source": [
    "print(spritely[0][4].labels)"
   ]
  },
  {
   "attachments": {},
   "cell_type": "markdown",
   "metadata": {},
   "source": [
    "And we can print out some information about the index `1` interval."
   ]
  },
  {
   "cell_type": "code",
   "execution_count": 11,
   "metadata": {},
   "outputs": [
    {
     "name": "stdout",
     "output_type": "stream",
     "text": [
      "Onset\n",
      "['S', 'P', 'R']\n"
     ]
    }
   ],
   "source": [
    "print(spritely[0][4][1].label)\n",
    "print(spritely[0][4][1].sub_labels)"
   ]
  },
  {
   "attachments": {},
   "cell_type": "markdown",
   "metadata": {},
   "source": [
    "### When the tier order != the hierarchy order\n",
    "\n",
    "It's possible that you'll be working with textgrids where the largest superset is not the topmost tier. For example, here is [the spritely textgrid reversed](../resources/spritely_rev.TextGrid).\n",
    "\n",
    "![spritely reversed](../resources/spritely_rev.png)"
   ]
  },
  {
   "attachments": {},
   "cell_type": "markdown",
   "metadata": {},
   "source": [
    "The `custom_classes()` function still needs the hierarchy to be arranged from left to right, but you can also specify a `return_order`, either by numeric index or by name, that the new classes get returned."
   ]
  },
  {
   "cell_type": "code",
   "execution_count": 12,
   "metadata": {},
   "outputs": [
    {
     "data": {
      "text/plain": [
       "[aligned_textgrid.custom_classes.Phone,\n",
       " aligned_textgrid.custom_classes.SylPart,\n",
       " aligned_textgrid.custom_classes.OnsetRime,\n",
       " aligned_textgrid.custom_classes.Syl,\n",
       " aligned_textgrid.custom_classes.Foot,\n",
       " aligned_textgrid.custom_classes.PrWord]"
      ]
     },
     "execution_count": 12,
     "metadata": {},
     "output_type": "execute_result"
    }
   ],
   "source": [
    "custom_classes(\n",
    "    class_list = [\"PrWord\", \"Foot\", \"Syl\", \"OnsetRime\", \"SylPart\", \"Phone\"],\n",
    "    return_order=[5, 4, 3, 2, 1, 0]\n",
    ")\n",
    "# -or-\n",
    "# custom_classes(\n",
    "#     class_list = [\"PrWord\", \"Foot\", \"Syl\", \"OnsetRime\", \"SylPart\", \"Phone\"],\n",
    "#     return_order=[\"Phone\", \"SylPart\", \"OnsetRime\", \"Syl\", \"Foot\", \"PrWord\"]\n",
    "# )"
   ]
  },
  {
   "attachments": {},
   "cell_type": "markdown",
   "metadata": {},
   "source": [
    "The order of these classes in the output list may have `Phone` first, but the topmost class in the hierarchy is still `PrWord`"
   ]
  },
  {
   "cell_type": "code",
   "execution_count": 13,
   "metadata": {},
   "outputs": [
    {
     "name": "stdout",
     "output_type": "stream",
     "text": [
      "AlignedTextGrid with 1 groups, each with [6] tiers. [['PrWord', 'Foot', 'Syl', 'OnsetRime', 'SylPart', 'Phone']]\n"
     ]
    }
   ],
   "source": [
    "spritely_rev = AlignedTextGrid(\n",
    "    textgrid_path= \"../resources/spritely_rev.TextGrid\",\n",
    "    entry_classes = custom_classes(\n",
    "        class_list = [\"PrWord\", \"Foot\", \"Syl\", \"OnsetRime\", \"SylPart\", \"Phone\"],\n",
    "        return_order=[5, 4, 3, 2, 1, 0]        \n",
    "    )\n",
    ")\n",
    "print(spritely_rev)"
   ]
  },
  {
   "attachments": {},
   "cell_type": "markdown",
   "metadata": {},
   "source": [
    "## Customizing Subclasses\n",
    "\n"
   ]
  },
  {
   "attachments": {},
   "cell_type": "markdown",
   "metadata": {},
   "source": [
    "The classes generated by `custom_classes()` have only the default attributes and methods available within `SequenceInterval`. If you want any more customized methods or attributes within a sequence interval, you'll need to create the subclass yourself. For example, let's say you wanted to create a custom `MyWord`, `Syllable`, `SyllablePieces`, `MyPhone` classes, where the `Syllable` class had as an attribute `.has_onset`, and `.open_syllable`. The goal parsing for a word like \"sprinted\" is illustrated below.\n",
    "\n",
    "![sprinted](assets/custom_classes.svg)"
   ]
  },
  {
   "attachments": {},
   "cell_type": "markdown",
   "metadata": {},
   "source": [
    "### The minimal requirements\n",
    "\n",
    "The minimal requirements for a custom class are:\n",
    "\n",
    "1. It is a subclass of `SequenceInterval`.\n",
    "2. Either its `.superset_class` has been set with `.set_superset_class`, or its `.subset_class` has been set with `.set_subset_class`.\n",
    "\n",
    "#### Subclassing `SequenceInterval`\n",
    "\n",
    "Here's the minimal setup to create a sequence interval subclass."
   ]
  },
  {
   "cell_type": "code",
   "execution_count": 14,
   "metadata": {},
   "outputs": [],
   "source": [
    "class MyWord(SequenceInterval):\n",
    "    def __init__(self, Interval):\n",
    "        super().__init__(Interval)"
   ]
  },
  {
   "attachments": {},
   "cell_type": "markdown",
   "metadata": {},
   "source": [
    "To test your new subclass, you'll have to import `Interval` from `praatio`."
   ]
  },
  {
   "cell_type": "code",
   "execution_count": 15,
   "metadata": {},
   "outputs": [
    {
     "data": {
      "text/plain": [
       "Class MyWord, label: test, .superset_class: Top, .super_instance, None, .subset_class: Bottom"
      ]
     },
     "execution_count": 15,
     "metadata": {},
     "output_type": "execute_result"
    }
   ],
   "source": [
    "from praatio.utilities.constants import Interval\n",
    "\n",
    "MyWord(Interval(0, 1, \"test\"))"
   ]
  },
  {
   "attachments": {},
   "cell_type": "markdown",
   "metadata": {},
   "source": [
    "As you can see, `MyWord` has defaulted to have `Top` as its superset class and `Bottom` as its subset class. We'll reset these after creating the remaining subclasses. Both `SyllablePart` and `MyPhone` will be created the exact same way as `MyWord`, since we're just using the sequence interval defaults for them."
   ]
  },
  {
   "cell_type": "code",
   "execution_count": 16,
   "metadata": {},
   "outputs": [],
   "source": [
    "class SyllablePart(SequenceInterval):\n",
    "    def __init__(self, Interval):\n",
    "        super().__init__(Interval)\n",
    "\n",
    "class MyPhone(SequenceInterval):\n",
    "    def __init__(self, Interval):\n",
    "        super().__init__(Interval)"
   ]
  },
  {
   "attachments": {},
   "cell_type": "markdown",
   "metadata": {},
   "source": [
    "For the specialized properties of `Syllable`, we'll start the subclassing the same, but add some properties that return `True` or `False` for whether or not the syllable has an onset or a coda."
   ]
  },
  {
   "cell_type": "code",
   "execution_count": 17,
   "metadata": {},
   "outputs": [],
   "source": [
    "class Syllable(SequenceInterval):\n",
    "    def __init__(self, Interval):\n",
    "        super().__init__(Interval)\n",
    "\n",
    "    @property\n",
    "    def has_onset(self):\n",
    "        return \"O\" in self.sub_labels\n",
    "    \n",
    "    @property\n",
    "    def open_syllable(self):\n",
    "        return \"C\" not in self.sub_labels"
   ]
  },
  {
   "attachments": {},
   "cell_type": "markdown",
   "metadata": {},
   "source": [
    "Now, after parsing a properly constructed TextGrid, any instance of the syllable class will return `True` if \"O\" is in its subset labels (has an onset), and will return `True` if \"C\" is not in its subset labels (does not have a coda).\n",
    "\n",
    "#### Setting subset and superset classes.\n",
    "\n",
    "We can now set the `superset_class` and `subset_class` relationships. These relationships are symmetrical, so we actually only need to set one or the other."
   ]
  },
  {
   "cell_type": "code",
   "execution_count": 18,
   "metadata": {},
   "outputs": [],
   "source": [
    "MyWord.set_subset_class(Syllable)\n",
    "Syllable.set_subset_class(SyllablePart)\n",
    "SyllablePart.set_subset_class(MyPhone)"
   ]
  },
  {
   "attachments": {},
   "cell_type": "markdown",
   "metadata": {},
   "source": [
    "We can double check the superset classes have been correctly set."
   ]
  },
  {
   "cell_type": "code",
   "execution_count": 19,
   "metadata": {},
   "outputs": [
    {
     "data": {
      "text/plain": [
       "__main__.SyllablePart"
      ]
     },
     "execution_count": 19,
     "metadata": {},
     "output_type": "execute_result"
    }
   ],
   "source": [
    "MyPhone.superset_class"
   ]
  },
  {
   "cell_type": "code",
   "execution_count": 20,
   "metadata": {},
   "outputs": [
    {
     "data": {
      "text/plain": [
       "__main__.Syllable"
      ]
     },
     "execution_count": 20,
     "metadata": {},
     "output_type": "execute_result"
    }
   ],
   "source": [
    "SyllablePart.superset_class"
   ]
  },
  {
   "cell_type": "code",
   "execution_count": 21,
   "metadata": {},
   "outputs": [
    {
     "data": {
      "text/plain": [
       "__main__.MyWord"
      ]
     },
     "execution_count": 21,
     "metadata": {},
     "output_type": "execute_result"
    }
   ],
   "source": [
    "Syllable.superset_class"
   ]
  }
 ],
 "metadata": {
  "kernelspec": {
   "display_name": "venv",
   "language": "python",
   "name": "python3"
  },
  "language_info": {
   "codemirror_mode": {
    "name": "ipython",
    "version": 3
   },
   "file_extension": ".py",
   "mimetype": "text/x-python",
   "name": "python",
   "nbconvert_exporter": "python",
   "pygments_lexer": "ipython3",
   "version": "3.10.7"
  },
  "orig_nbformat": 4
 },
 "nbformat": 4,
 "nbformat_minor": 2
}
