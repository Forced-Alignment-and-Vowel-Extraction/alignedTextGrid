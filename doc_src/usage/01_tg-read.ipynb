{
 "cells": [
  {
   "attachments": {},
   "cell_type": "markdown",
   "metadata": {},
   "source": [
    "# Reading in a TextGrid"
   ]
  },
  {
   "cell_type": "code",
   "execution_count": 1,
   "metadata": {},
   "outputs": [],
   "source": [
    "from alignedTextGrid.alignedTextGrid import AlignedTextGrid\n",
    "from alignedTextGrid.sequences.wordAndPhone import Word, Phone"
   ]
  },
  {
   "attachments": {},
   "cell_type": "markdown",
   "metadata": {},
   "source": [
    "A [one-speaker TextGrid](../resources/josef-fruehwald_speaker.TextGrid). \n",
    "\n",
    "Either give `AlignedTextGrid()` the path to the file, or a textgrid that has already been\n",
    "read in with `praatio.textgrid.openTextgrid()`"
   ]
  },
  {
   "cell_type": "code",
   "execution_count": 2,
   "metadata": {},
   "outputs": [],
   "source": [
    "one_speaker = AlignedTextGrid(\n",
    "    textgrid_path = \"resources/josef-fruehwald_speaker.TextGrid\", \n",
    "    entry_classes = [Word, Phone]\n",
    ")"
   ]
  },
  {
   "attachments": {},
   "cell_type": "markdown",
   "metadata": {},
   "source": [
    "With a [two or more speaker TextGrid](../resources/KY25A_1.TextGrid), you can either pass `entry_classes` a single list of interval classes to re-use with each speaker (for example `[Word, Phone]`), or an explicit list of nested classes \n",
    "(for example, `[[Word, Phone], [Word, Phone]]`).\n"
   ]
  },
  {
   "cell_type": "code",
   "execution_count": 3,
   "metadata": {},
   "outputs": [],
   "source": [
    "two_speaker = AlignedTextGrid(\n",
    "    textgrid_path = \"resources/KY25A_1.TextGrid\",\n",
    "    entry_classes= [Word, Phone]\n",
    ")"
   ]
  },
  {
   "attachments": {},
   "cell_type": "markdown",
   "metadata": {},
   "source": [
    "## TextGrid navigation\n",
    "\n",
    "Each class within an `AlignedTextGrid` is indexable like you might expect."
   ]
  },
  {
   "cell_type": "code",
   "execution_count": 4,
   "metadata": {},
   "outputs": [
    {
     "data": {
      "text/plain": [
       "AlignedTextGrid with 2 groups, each with [2, 2] tiers. [['Word', 'Phone'], ['Word', 'Phone']]"
      ]
     },
     "execution_count": 4,
     "metadata": {},
     "output_type": "execute_result"
    }
   ],
   "source": [
    "two_speaker"
   ]
  },
  {
   "cell_type": "code",
   "execution_count": 5,
   "metadata": {},
   "outputs": [
    {
     "data": {
      "text/plain": [
       "RelatedTiers with 2 tiers. ['Word', 'Phone']"
      ]
     },
     "execution_count": 5,
     "metadata": {},
     "output_type": "execute_result"
    }
   ],
   "source": [
    "two_speaker[0]"
   ]
  },
  {
   "cell_type": "code",
   "execution_count": 6,
   "metadata": {},
   "outputs": [
    {
     "data": {
      "text/plain": [
       "Sequence tier of Word; .superset_class: Top; .subset_class: Phone"
      ]
     },
     "execution_count": 6,
     "metadata": {},
     "output_type": "execute_result"
    }
   ],
   "source": [
    "two_speaker[0][0]"
   ]
  },
  {
   "cell_type": "code",
   "execution_count": 7,
   "metadata": {},
   "outputs": [
    {
     "data": {
      "text/plain": [
       "Class Word, label: yeah, .superset_class: Top, .super_instance, None, .subset_class: Phone, .subset_list: ['Y', 'AE1']"
      ]
     },
     "execution_count": 7,
     "metadata": {},
     "output_type": "execute_result"
    }
   ],
   "source": [
    "two_speaker[0][0][1]"
   ]
  },
  {
   "attachments": {},
   "cell_type": "markdown",
   "metadata": {},
   "source": [
    "Once you get down to a Sequence Interval class, indexing goes into its `subset_list`."
   ]
  },
  {
   "cell_type": "code",
   "execution_count": 8,
   "metadata": {},
   "outputs": [
    {
     "data": {
      "text/plain": [
       "Class Phone, label: Y, .superset_class: Word, .super_instance: yeah, .subset_class: Bottom"
      ]
     },
     "execution_count": 8,
     "metadata": {},
     "output_type": "execute_result"
    }
   ],
   "source": [
    "two_speaker[0][0][1][0]"
   ]
  },
  {
   "attachments": {},
   "cell_type": "markdown",
   "metadata": {},
   "source": [
    "## Useful information\n",
    "Useful information available about each level of the tiers:"
   ]
  },
  {
   "cell_type": "code",
   "execution_count": 9,
   "metadata": {},
   "outputs": [
    {
     "data": {
      "text/plain": [
       "[['KY25A - words', 'KY25A - phones'], ['IVR - words', 'IVR - phones']]"
      ]
     },
     "execution_count": 9,
     "metadata": {},
     "output_type": "execute_result"
    }
   ],
   "source": [
    "two_speaker.tier_names"
   ]
  },
  {
   "cell_type": "code",
   "execution_count": 10,
   "metadata": {},
   "outputs": [
    {
     "data": {
      "text/plain": [
       "[[alignedTextGrid.sequences.wordAndPhone.Word,\n",
       "  alignedTextGrid.sequences.wordAndPhone.Phone],\n",
       " [alignedTextGrid.sequences.wordAndPhone.Word,\n",
       "  alignedTextGrid.sequences.wordAndPhone.Phone]]"
      ]
     },
     "execution_count": 10,
     "metadata": {},
     "output_type": "execute_result"
    }
   ],
   "source": [
    "two_speaker.entry_classes"
   ]
  },
  {
   "cell_type": "code",
   "execution_count": 11,
   "metadata": {},
   "outputs": [
    {
     "data": {
      "text/plain": [
       "26.774"
      ]
     },
     "execution_count": 11,
     "metadata": {},
     "output_type": "execute_result"
    }
   ],
   "source": [
    "two_speaker[0][0].xmax"
   ]
  },
  {
   "cell_type": "code",
   "execution_count": 12,
   "metadata": {},
   "outputs": [
    {
     "data": {
      "text/plain": [
       "array([ 0.    , 10.7017, 11.0017, 13.3117, 13.6517, 13.9017, 13.9317,\n",
       "       14.9717, 15.0017, 15.3117, 15.4517, 15.9417, 16.3217, 17.0217,\n",
       "       17.2117, 17.3317, 17.7917, 18.0917, 18.9517, 19.7717, 20.2717,\n",
       "       20.6417, 24.3517, 24.7317, 25.1717])"
      ]
     },
     "execution_count": 12,
     "metadata": {},
     "output_type": "execute_result"
    }
   ],
   "source": [
    "two_speaker[0][0].starts"
   ]
  },
  {
   "cell_type": "code",
   "execution_count": 13,
   "metadata": {},
   "outputs": [
    {
     "data": {
      "text/plain": [
       "['',\n",
       " 'yeah',\n",
       " '',\n",
       " 'well',\n",
       " 'now',\n",
       " '',\n",
       " 'you',\n",
       " '',\n",
       " 'might',\n",
       " '',\n",
       " 'start',\n",
       " 'that',\n",
       " '',\n",
       " 'i',\n",
       " 'was',\n",
       " 'born',\n",
       " 'in',\n",
       " '',\n",
       " 'eighteen',\n",
       " 'sixty',\n",
       " 'seven',\n",
       " '',\n",
       " 'nintey',\n",
       " 'three',\n",
       " '']"
      ]
     },
     "execution_count": 13,
     "metadata": {},
     "output_type": "execute_result"
    }
   ],
   "source": [
    "two_speaker[0][0].labels"
   ]
  },
  {
   "attachments": {},
   "cell_type": "markdown",
   "metadata": {},
   "source": [
    "`get_interval_at_time()` is also implemented at the tier level."
   ]
  },
  {
   "cell_type": "code",
   "execution_count": 14,
   "metadata": {},
   "outputs": [
    {
     "data": {
      "text/plain": [
       "2"
      ]
     },
     "execution_count": 14,
     "metadata": {},
     "output_type": "execute_result"
    }
   ],
   "source": [
    "two_speaker[0][0].get_interval_at_time(11.2)"
   ]
  }
 ],
 "metadata": {
  "kernelspec": {
   "display_name": "venv",
   "language": "python",
   "name": "python3"
  },
  "language_info": {
   "codemirror_mode": {
    "name": "ipython",
    "version": 3
   },
   "file_extension": ".py",
   "mimetype": "text/x-python",
   "name": "python",
   "nbconvert_exporter": "python",
   "pygments_lexer": "ipython3",
   "version": "3.10.7"
  },
  "orig_nbformat": 4
 },
 "nbformat": 4,
 "nbformat_minor": 2
}
