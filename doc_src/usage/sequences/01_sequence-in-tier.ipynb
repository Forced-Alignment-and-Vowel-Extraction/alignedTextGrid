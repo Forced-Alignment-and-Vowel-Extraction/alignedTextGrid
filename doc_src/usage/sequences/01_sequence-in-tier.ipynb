{
 "cells": [
  {
   "attachments": {},
   "cell_type": "markdown",
   "metadata": {},
   "source": [
    "# Navigating Sequences in a Tier\n",
    "\n",
    "In addition to their hierarchical relationships, sequences also have relationships to the tiers they're in."
   ]
  },
  {
   "cell_type": "code",
   "execution_count": 8,
   "metadata": {},
   "outputs": [],
   "source": [
    "from aligned_textgrid.aligned_textgrid import AlignedTextGrid\n",
    "from aligned_textgrid.sequences.word_and_phone import Word, Phone\n",
    "\n",
    "the_dog = AlignedTextGrid(\n",
    "    textgrid_path=\"../resources/the_dog.TextGrid\", \n",
    "    entry_classes=[Word, Phone]\n",
    "    )"
   ]
  },
  {
   "cell_type": "code",
   "execution_count": 9,
   "metadata": {},
   "outputs": [],
   "source": [
    "AH0 = the_dog.tier_groups[0].tier_list[1].sequence_list[1]\n",
    "dog = the_dog.tier_groups[0].tier_list[0].sequence_list[1]"
   ]
  },
  {
   "attachments": {},
   "cell_type": "markdown",
   "metadata": {},
   "source": [
    "## Accessing its tier\n",
    "\n",
    "From a given sequence, we can access its tier with `.intier`"
   ]
  },
  {
   "cell_type": "code",
   "execution_count": 10,
   "metadata": {},
   "outputs": [
    {
     "data": {
      "text/plain": [
       "Sequence tier of Phone; .superset_class: Word; .subset_class: Bottom"
      ]
     },
     "execution_count": 10,
     "metadata": {},
     "output_type": "execute_result"
    }
   ],
   "source": [
    "AH0.intier"
   ]
  },
  {
   "attachments": {},
   "cell_type": "markdown",
   "metadata": {},
   "source": [
    "We can also get its index within that tier."
   ]
  },
  {
   "cell_type": "code",
   "execution_count": 11,
   "metadata": {},
   "outputs": [
    {
     "data": {
      "text/plain": [
       "1"
      ]
     },
     "execution_count": 11,
     "metadata": {},
     "output_type": "execute_result"
    }
   ],
   "source": [
    "AH0.tier_index"
   ]
  },
  {
   "attachments": {},
   "cell_type": "markdown",
   "metadata": {},
   "source": [
    "This allows for [tier-level operations](../../textgrids/01_tg-nav). For example, if we wanted to find the phone interval that occurs 0.5 seconds after the end of the current sequence interval, we could do so like this:"
   ]
  },
  {
   "cell_type": "code",
   "execution_count": 12,
   "metadata": {},
   "outputs": [
    {
     "data": {
      "text/plain": [
       "Class Phone, label: AO1, .superset_class: Word, .super_instance: dog, .subset_class: Bottom"
      ]
     },
     "execution_count": 12,
     "metadata": {},
     "output_type": "execute_result"
    }
   ],
   "source": [
    "search_idx = AH0.intier.get_interval_at_time(AH0.end + 0.5)\n",
    "AH0.intier[search_idx]"
   ]
  },
  {
   "attachments": {},
   "cell_type": "markdown",
   "metadata": {},
   "source": [
    "## Tier-wise relationships\n",
    "\n",
    "When a sequence interval is in a subset list (like, say, a phone within a word), its `.fol` attribute will reference a dummy boundary interval, even if there's a following word."
   ]
  },
  {
   "cell_type": "code",
   "execution_count": 15,
   "metadata": {},
   "outputs": [
    {
     "data": {
      "text/plain": [
       "Class Phone, label: #, .superset_class: Word, .super_instance, None, .subset_class: Bottom"
      ]
     },
     "execution_count": 15,
     "metadata": {},
     "output_type": "execute_result"
    }
   ],
   "source": [
    "AH0.fol"
   ]
  },
  {
   "attachments": {},
   "cell_type": "markdown",
   "metadata": {},
   "source": [
    "However, you can access intervals an arbitrary distance away, tierwise, with `.get_tierwise()`"
   ]
  },
  {
   "cell_type": "code",
   "execution_count": 16,
   "metadata": {},
   "outputs": [
    {
     "data": {
      "text/plain": [
       "[Class Phone, label: DH, .superset_class: Word, .super_instance: the, .subset_class: Bottom,\n",
       " Class Phone, label: D, .superset_class: Word, .super_instance: dog, .subset_class: Bottom,\n",
       " Class Phone, label: AO1, .superset_class: Word, .super_instance: dog, .subset_class: Bottom]"
      ]
     },
     "execution_count": 16,
     "metadata": {},
     "output_type": "execute_result"
    }
   ],
   "source": [
    "[AH0.get_seq_by_relative_tieridx(-1), AH0.get_seq_by_relative_tieridx(1), AH0.get_seq_by_relative_tieridx(2)]"
   ]
  }
 ],
 "metadata": {
  "kernelspec": {
   "display_name": "venv",
   "language": "python",
   "name": "python3"
  },
  "language_info": {
   "codemirror_mode": {
    "name": "ipython",
    "version": 3
   },
   "file_extension": ".py",
   "mimetype": "text/x-python",
   "name": "python",
   "nbconvert_exporter": "python",
   "pygments_lexer": "ipython3",
   "version": "3.10.7"
  },
  "orig_nbformat": 4
 },
 "nbformat": 4,
 "nbformat_minor": 2
}
