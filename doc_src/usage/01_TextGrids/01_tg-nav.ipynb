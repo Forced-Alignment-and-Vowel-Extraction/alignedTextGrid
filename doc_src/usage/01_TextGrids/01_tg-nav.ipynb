{
 "cells": [
  {
   "attachments": {},
   "cell_type": "markdown",
   "metadata": {},
   "source": [
    "# Navigating an `AlignedTextGrid`"
   ]
  },
  {
   "attachments": {},
   "cell_type": "markdown",
   "metadata": {},
   "source": [
    "This documentation covers reading in the output from the Montreal Forced Aligner using the `Word` and `Phone` classes from `aligned_textgrid`, but everything will generalize to custom classes."
   ]
  },
  {
   "cell_type": "code",
   "execution_count": 1,
   "metadata": {},
   "outputs": [],
   "source": [
    "from aligned_textgrid.aligned_textgrid import AlignedTextGrid\n",
    "from aligned_textgrid.sequences.word_and_phone import Word, Phone"
   ]
  },
  {
   "attachments": {},
   "cell_type": "markdown",
   "metadata": {},
   "source": [
    "## Reading in a TextGrid\n",
    "\n",
    "To read in a [one-speaker TextGrid](../resources/josef-fruehwald_speaker.TextGrid), either give `AlignedTextGrid()` the path to the file, or a textgrid that has already been read in with `praatio.textgrid.openTextgrid()`.\n",
    "\n",
    "You also need to specify the sequence classes of each tier in the order they appear. For MFA output, the top tier is `Word` and the bottom tier is `Phone`, but if these were reversed, you would have to pass `[Phone, Word]` to `entry_classes`. The information about which class is the superset and which is the subset is [encoded in the class information](../../02_Sequences/02_sequence_properties/#class-strictness), and is automatically handled."
   ]
  },
  {
   "cell_type": "code",
   "execution_count": 2,
   "metadata": {},
   "outputs": [],
   "source": [
    "one_speaker = AlignedTextGrid(\n",
    "    textgrid_path = \"../resources/josef-fruehwald_speaker.TextGrid\", \n",
    "    entry_classes = [Word, Phone]\n",
    ")"
   ]
  },
  {
   "attachments": {},
   "cell_type": "markdown",
   "metadata": {},
   "source": [
    "With a [two or more speaker TextGrid](../resources/KY25A_1.TextGrid), you can either pass `entry_classes` a single list of interval classes to re-use with each speaker (for example `[Word, Phone]`), or an explicit list of nested classes \n",
    "(for example, `[[Word, Phone], [Word, Phone]]`).\n"
   ]
  },
  {
   "cell_type": "code",
   "execution_count": 3,
   "metadata": {},
   "outputs": [],
   "source": [
    "two_speaker = AlignedTextGrid(\n",
    "    textgrid_path = \"../resources/KY25A_1.TextGrid\",\n",
    "    entry_classes= [Word, Phone]\n",
    ")"
   ]
  },
  {
   "attachments": {},
   "cell_type": "markdown",
   "metadata": {},
   "source": [
    "## Navigating the `AlignedTextGrid` object\n",
    "\n",
    "Every `AlignedTextGrid` object contains at least one `TierGroup`, which in turn contains at least one `SequenceTier`.\n",
    "\n",
    "![aligned-textgrid](../assets/alignedtextgrid.svg)\n",
    "\n",
    "This information is available if you print the object:"
   ]
  },
  {
   "cell_type": "code",
   "execution_count": 4,
   "metadata": {},
   "outputs": [
    {
     "name": "stdout",
     "output_type": "stream",
     "text": [
      "AlignedTextGrid with 2 groups, each with [2, 2] tiers. [['Word', 'Phone'], ['Word', 'Phone']]\n"
     ]
    }
   ],
   "source": [
    "print(two_speaker)"
   ]
  },
  {
   "attachments": {},
   "cell_type": "markdown",
   "metadata": {},
   "source": [
    "Or if you compare the `len()` of the one speaker vs two speaker textgrids.\""
   ]
  },
  {
   "cell_type": "code",
   "execution_count": 5,
   "metadata": {},
   "outputs": [
    {
     "name": "stdout",
     "output_type": "stream",
     "text": [
      "1\n",
      "2\n"
     ]
    }
   ],
   "source": [
    "print(len(one_speaker))\n",
    "print(len(two_speaker))"
   ]
  },
  {
   "attachments": {},
   "cell_type": "markdown",
   "metadata": {},
   "source": [
    "To get the Word tier of the first speaker in `one_speaker`, we can index it with `[0][0]`"
   ]
  },
  {
   "cell_type": "code",
   "execution_count": 6,
   "metadata": {},
   "outputs": [
    {
     "data": {
      "text/plain": [
       "Sequence tier of Word; .superset_class: Top; .subset_class: Phone"
      ]
     },
     "execution_count": 6,
     "metadata": {},
     "output_type": "execute_result"
    }
   ],
   "source": [
    "one_speaker[0][0]"
   ]
  },
  {
   "attachments": {},
   "cell_type": "markdown",
   "metadata": {},
   "source": [
    "If you'd prefer to wrote more verbose but explicit code, you can also access tiers via the `.tier_groups` and `.tier_list` attributes as well."
   ]
  },
  {
   "cell_type": "code",
   "execution_count": 7,
   "metadata": {},
   "outputs": [
    {
     "data": {
      "text/plain": [
       "Sequence tier of Word; .superset_class: Top; .subset_class: Phone"
      ]
     },
     "execution_count": 7,
     "metadata": {},
     "output_type": "execute_result"
    }
   ],
   "source": [
    "one_speaker.tier_groups[0].tier_list[0]"
   ]
  },
  {
   "attachments": {},
   "cell_type": "markdown",
   "metadata": {},
   "source": [
    "To access the individual sequence intervals in a tier, you can also use indexing."
   ]
  },
  {
   "cell_type": "code",
   "execution_count": 8,
   "metadata": {},
   "outputs": [
    {
     "data": {
      "text/plain": [
       "Class Word, label: sunlight, .superset_class: Top, .super_instance, None, .subset_class: Phone, .subset_list: ['S', 'AH1', 'N', 'L', 'AY2', 'T']"
      ]
     },
     "execution_count": 8,
     "metadata": {},
     "output_type": "execute_result"
    }
   ],
   "source": [
    "one_speaker[0][0][3]"
   ]
  },
  {
   "attachments": {},
   "cell_type": "markdown",
   "metadata": {},
   "source": [
    "Tiers are also iterable."
   ]
  },
  {
   "cell_type": "code",
   "execution_count": 9,
   "metadata": {},
   "outputs": [
    {
     "name": "stdout",
     "output_type": "stream",
     "text": [
      "\n",
      "when\n",
      "the\n",
      "sunlight\n",
      "strikes\n"
     ]
    }
   ],
   "source": [
    "for i in range(5):\n",
    "    print(one_speaker[0][0][i].label)"
   ]
  },
  {
   "attachments": {},
   "cell_type": "markdown",
   "metadata": {},
   "source": [
    "Once you've gotten to a sequence interval, indexing goes into its [`.subset_list`](../../02_sequences/02_sequence_structure/#moving-downwards)\n",
    "\n",
    "The `len()` of a tier returns how many sequence intervals it constains."
   ]
  },
  {
   "cell_type": "code",
   "execution_count": 10,
   "metadata": {},
   "outputs": [
    {
     "data": {
      "text/plain": [
       "[377, 1191]"
      ]
     },
     "execution_count": 10,
     "metadata": {},
     "output_type": "execute_result"
    }
   ],
   "source": [
    "[len(one_speaker[0][0]), len(one_speaker[0][1])]"
   ]
  },
  {
   "attachments": {},
   "cell_type": "markdown",
   "metadata": {},
   "source": [
    "## Get interval at time\n",
    "\n",
    "The \"Get interval at time\" functionality from Praat has been implemented for each level of TextGrid representation."
   ]
  },
  {
   "cell_type": "code",
   "execution_count": 11,
   "metadata": {},
   "outputs": [],
   "source": [
    "speaker_one = two_speaker[0]\n",
    "speaker_one_word = speaker_one[0]"
   ]
  },
  {
   "cell_type": "code",
   "execution_count": 12,
   "metadata": {},
   "outputs": [
    {
     "data": {
      "text/plain": [
       "1"
      ]
     },
     "execution_count": 12,
     "metadata": {},
     "output_type": "execute_result"
    }
   ],
   "source": [
    "speaker_one_word.get_interval_at_time(11)"
   ]
  },
  {
   "attachments": {},
   "cell_type": "markdown",
   "metadata": {},
   "source": [
    "This is the index for the word that appears at 11 seconds."
   ]
  },
  {
   "cell_type": "code",
   "execution_count": 13,
   "metadata": {},
   "outputs": [
    {
     "data": {
      "text/plain": [
       "[1, 2]"
      ]
     },
     "execution_count": 13,
     "metadata": {},
     "output_type": "execute_result"
    }
   ],
   "source": [
    "speaker_one.get_intervals_at_time(11)"
   ]
  },
  {
   "attachments": {},
   "cell_type": "markdown",
   "metadata": {},
   "source": [
    "These are the indices for the word and phone tiers that are at 11 seconds."
   ]
  },
  {
   "cell_type": "code",
   "execution_count": 14,
   "metadata": {},
   "outputs": [
    {
     "data": {
      "text/plain": [
       "[[1, 2], [39, 96]]"
      ]
     },
     "execution_count": 14,
     "metadata": {},
     "output_type": "execute_result"
    }
   ],
   "source": [
    "two_speaker.get_intervals_at_time(11)"
   ]
  },
  {
   "cell_type": "code",
   "execution_count": 15,
   "metadata": {},
   "outputs": [
    {
     "data": {
      "text/plain": [
       "[[1, 2], [39, 96]]"
      ]
     },
     "execution_count": 15,
     "metadata": {},
     "output_type": "execute_result"
    }
   ],
   "source": [
    "two_speaker.get_intervals_at_time(11)"
   ]
  },
  {
   "attachments": {},
   "cell_type": "markdown",
   "metadata": {},
   "source": [
    "These are the indices for the word and phone tiers for both speakers at 11 seconds."
   ]
  },
  {
   "attachments": {},
   "cell_type": "markdown",
   "metadata": {},
   "source": [
    "### Nested indexing\n",
    "\n",
    "You can use the nested indices returned by `.get_intervals_at_time()` to get the actual sequence intervals as well."
   ]
  },
  {
   "cell_type": "code",
   "execution_count": 16,
   "metadata": {},
   "outputs": [
    {
     "data": {
      "text/plain": [
       "[[Class Word, label: yeah, .superset_class: Top, .super_instance, None, .subset_class: Phone, .subset_list: ['Y', 'AE1'],\n",
       "  Class Phone, label: AE1, .superset_class: Word, .super_instance: yeah, .subset_class: Bottom],\n",
       " [Class Word, label: after, .superset_class: Top, .super_instance, None, .subset_class: Phone, .subset_list: ['AE1', 'F', 'T', 'ER0'],\n",
       "  Class Phone, label: F, .superset_class: Word, .super_instance: after, .subset_class: Bottom]]"
      ]
     },
     "execution_count": 16,
     "metadata": {},
     "output_type": "execute_result"
    }
   ],
   "source": [
    "eleven_seconds = two_speaker.get_intervals_at_time(11)\n",
    "two_speaker[eleven_seconds]"
   ]
  }
 ],
 "metadata": {
  "kernelspec": {
   "display_name": "venv",
   "language": "python",
   "name": "python3"
  },
  "language_info": {
   "codemirror_mode": {
    "name": "ipython",
    "version": 3
   },
   "file_extension": ".py",
   "mimetype": "text/x-python",
   "name": "python",
   "nbconvert_exporter": "python",
   "pygments_lexer": "ipython3",
   "version": "3.10.7"
  },
  "orig_nbformat": 4
 },
 "nbformat": 4,
 "nbformat_minor": 2
}
