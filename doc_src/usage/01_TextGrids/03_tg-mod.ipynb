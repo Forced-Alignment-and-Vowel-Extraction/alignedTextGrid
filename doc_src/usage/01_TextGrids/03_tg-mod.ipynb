{
 "cells": [
  {
   "cell_type": "markdown",
   "metadata": {},
   "source": [
    "# Modifying a Textgrid\n",
    "\n",
    "You can modify a textgrid by adding an additional entry class with the [`.interleave_class()`](../../reference/AlignedTextGrid.qmd#aligned_textgrid.aligned_textgrid.AlignedTextGrid.interleave_class) method."
   ]
  },
  {
   "cell_type": "code",
   "execution_count": 1,
   "metadata": {},
   "outputs": [],
   "source": [
    "from aligned_textgrid import AlignedTextGrid, custom_classes"
   ]
  },
  {
   "cell_type": "code",
   "execution_count": 2,
   "metadata": {},
   "outputs": [
    {
     "data": {
      "text/plain": [
       "AlignedTextGrid with 2 groups named ['KY25A', 'IVR'] each with [2, 2] tiers. [['Word', 'Phone'], ['Word', 'Phone']]"
      ]
     },
     "execution_count": 2,
     "metadata": {},
     "output_type": "execute_result"
    }
   ],
   "source": [
    "two_speaker = AlignedTextGrid(\n",
    "    textgrid_path = \"../resources/KY25A_1.TextGrid\",\n",
    "    entry_classes = custom_classes([\"Word\", \"Phone\"])\n",
    ")\n",
    "\n",
    "two_speaker"
   ]
  },
  {
   "cell_type": "markdown",
   "metadata": {},
   "source": [
    "If we wanted to add a syllable layer in between the `Word` and `Phone` tier, we could do so like this."
   ]
  },
  {
   "cell_type": "code",
   "execution_count": 3,
   "metadata": {},
   "outputs": [],
   "source": [
    "two_speaker.interleave_class(\n",
    "    name = \"Syllable\",\n",
    "    above = \"Phone\",\n",
    "    #below = \"Word\",\n",
    "    timing_from = \"below\",\n",
    "    copy_labels = True\n",
    ")"
   ]
  },
  {
   "cell_type": "code",
   "execution_count": 4,
   "metadata": {},
   "outputs": [
    {
     "data": {
      "text/plain": [
       "AlignedTextGrid with 2 groups named ['KY25A', 'IVR'] each with [3, 3] tiers. [['Word', 'Syllable', 'Phone'], ['Word', 'Syllable', 'Phone']]"
      ]
     },
     "execution_count": 4,
     "metadata": {},
     "output_type": "execute_result"
    }
   ],
   "source": [
    "two_speaker"
   ]
  },
  {
   "cell_type": "markdown",
   "metadata": {},
   "source": [
    "Now, you can begin building syllables on the Syllable tier using fuse methods. Here's the first step."
   ]
  },
  {
   "cell_type": "code",
   "execution_count": 5,
   "metadata": {},
   "outputs": [
    {
     "data": {
      "text/plain": [
       "[Class Syllable, label: S, .superset_class: Word, .super_instance: start, .subset_class: Phone, .subset_list: ['S'],\n",
       " Class Syllable, label: T AA1, .superset_class: Word, .super_instance: start, .subset_class: Phone, .subset_list: ['T', 'AA1'],\n",
       " Class Syllable, label: R, .superset_class: Word, .super_instance: start, .subset_class: Phone, .subset_list: ['R'],\n",
       " Class Syllable, label: T, .superset_class: Word, .super_instance: start, .subset_class: Phone, .subset_list: ['T']]"
      ]
     },
     "execution_count": 5,
     "metadata": {},
     "output_type": "execute_result"
    }
   ],
   "source": [
    "import re\n",
    "\n",
    "for speaker in two_speaker:\n",
    "    for interval in speaker.Syllable:\n",
    "        if re.match(r\"[AEIOU]\", interval.label):\n",
    "            if not (re.match(r\"[AEIOU]\", interval.prev.label) or \n",
    "                    interval.prev.label == \"NG\" or\n",
    "                    interval.prev.label == \"#\"):\n",
    "                interval.fuse_leftwards()\n",
    "\n",
    "two_speaker[0].Word[10].contains"
   ]
  }
 ],
 "metadata": {
  "kernelspec": {
   "display_name": "venv",
   "language": "python",
   "name": "python3"
  },
  "language_info": {
   "codemirror_mode": {
    "name": "ipython",
    "version": 3
   },
   "file_extension": ".py",
   "mimetype": "text/x-python",
   "name": "python",
   "nbconvert_exporter": "python",
   "pygments_lexer": "ipython3",
   "version": "3.10.7"
  }
 },
 "nbformat": 4,
 "nbformat_minor": 2
}
