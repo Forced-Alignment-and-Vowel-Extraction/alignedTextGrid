{
 "cells": [
  {
   "attachments": {},
   "cell_type": "markdown",
   "metadata": {},
   "source": [
    "# Customizing Sequence Interval Classes\n",
    "\n",
    "The core class in aligned-textgrid is the `SequenceInterval` from which new sequence interval classes can be subclassed. The `Word` and `Phone` classes are, themselves, subclasses of `SequenceInterval`."
   ]
  },
  {
   "cell_type": "code",
   "execution_count": 1,
   "metadata": {},
   "outputs": [
    {
     "data": {
      "text/plain": [
       "True"
      ]
     },
     "execution_count": 1,
     "metadata": {},
     "output_type": "execute_result"
    }
   ],
   "source": [
    "from aligned_textgrid.aligned_textgrid import AlignedTextGrid\n",
    "from aligned_textgrid.sequences.sequences import SequenceInterval\n",
    "from aligned_textgrid.sequences.word_and_phone import Word, Phone\n",
    "from aligned_textgrid.custom_classes import custom_classes\n",
    "\n",
    "issubclass(Word, SequenceInterval)"
   ]
  },
  {
   "attachments": {},
   "cell_type": "markdown",
   "metadata": {},
   "source": [
    "The most important information every sequence interval class has is its `.superset_class` and `.subset_class`, which needs to be another (but different!) `SequenceInterval` subclass."
   ]
  },
  {
   "cell_type": "code",
   "execution_count": 2,
   "metadata": {},
   "outputs": [
    {
     "data": {
      "text/plain": [
       "aligned_textgrid.sequences.word_and_phone.Phone"
      ]
     },
     "execution_count": 2,
     "metadata": {},
     "output_type": "execute_result"
    }
   ],
   "source": [
    "Word.subset_class"
   ]
  },
  {
   "cell_type": "code",
   "execution_count": 3,
   "metadata": {},
   "outputs": [
    {
     "data": {
      "text/plain": [
       "aligned_textgrid.sequences.word_and_phone.Word"
      ]
     },
     "execution_count": 3,
     "metadata": {},
     "output_type": "execute_result"
    }
   ],
   "source": [
    "Phone.superset_class"
   ]
  },
  {
   "cell_type": "code",
   "execution_count": 4,
   "metadata": {},
   "outputs": [
    {
     "data": {
      "text/plain": [
       "aligned_textgrid.sequences.sequences.Bottom"
      ]
     },
     "execution_count": 4,
     "metadata": {},
     "output_type": "execute_result"
    }
   ],
   "source": [
    "Word.subset_class.subset_class"
   ]
  },
  {
   "attachments": {},
   "cell_type": "markdown",
   "metadata": {},
   "source": [
    "## Creating custom classes with `custom_classes()`\n",
    "\n",
    "If you don't want or need any additional bells and whistles beyond [what `SequenceInterval` already provides](/reference/aligned_textgrid/sequences/sequences/#aligned_textgrid.sequences.sequences.SequenceInterval), you can just use the `custom_classes()` function. For example, if you wanted your own interval classes for a Word, Syllable, and Phone:"
   ]
  },
  {
   "cell_type": "code",
   "execution_count": 5,
   "metadata": {},
   "outputs": [],
   "source": [
    "MyWord, Syllable, MyPhone = custom_classes(\n",
    "    class_list=[\"MyWord\", \"Syllable\", \"Phone\"]\n",
    ")"
   ]
  },
  {
   "cell_type": "code",
   "execution_count": 6,
   "metadata": {},
   "outputs": [
    {
     "data": {
      "text/plain": [
       "[aligned_textgrid.custom_classes.Syllable,\n",
       " aligned_textgrid.custom_classes.MyWord]"
      ]
     },
     "execution_count": 6,
     "metadata": {},
     "output_type": "execute_result"
    }
   ],
   "source": [
    "[MyWord.subset_class, Syllable.superset_class]"
   ]
  },
  {
   "attachments": {},
   "cell_type": "markdown",
   "metadata": {},
   "source": [
    "The reciprocal `.subset_class` and `.superset_class` relationships will be set from left to right for the class names provided to `class_list`.\n",
    "\n",
    "### Using `custom_classes()` when creating an `AlignedTextGrid`\n",
    "\n",
    "The `custom_classes()` returns a list of sequence interval classes, which is also a requried input when creating a new `AlignedTextGrid` object, so you you could create the new sequence interval classes on the fly.\n",
    "\n",
    "Let's say you began with [this textgrid](../resources/spritely.TextGrid) representing the syllable structure of a word:\n",
    "\n",
    "![syllable structure textgrid](../resources/spritely.png)\n",
    "\n",
    "You could create an `AlignedTextGrid` object like so:"
   ]
  },
  {
   "cell_type": "code",
   "execution_count": 7,
   "metadata": {},
   "outputs": [],
   "source": [
    "spritely = AlignedTextGrid(\n",
    "    textgrid_path = \"../resources/spritely.TextGrid\",\n",
    "    entry_classes = custom_classes(\n",
    "        class_list = [\"PrWord\", \"Foot\", \"Syl\", \"OnsetRime\", \"SylPart\", \"Phone\"]\n",
    "    )\n",
    ")"
   ]
  },
  {
   "attachments": {},
   "cell_type": "markdown",
   "metadata": {},
   "source": [
    "We can see that the textgrid was successfully parsed by printing `spritely`."
   ]
  },
  {
   "cell_type": "code",
   "execution_count": 8,
   "metadata": {},
   "outputs": [
    {
     "name": "stdout",
     "output_type": "stream",
     "text": [
      "AlignedTextGrid with 1 groups, each with [6] tiers. [['PrWord', 'Foot', 'Syl', 'OnsetRime', 'SylPart', 'Phone']]\n"
     ]
    }
   ],
   "source": [
    "print(spritely)"
   ]
  },
  {
   "attachments": {},
   "cell_type": "markdown",
   "metadata": {},
   "source": [
    "Within the first tier group, the tier with index `4` is the `SylPart` tier. Printing it, we can see that its superset class has been set to `OnsetRime` and its subset class has been set to `Phone`."
   ]
  },
  {
   "cell_type": "code",
   "execution_count": 9,
   "metadata": {},
   "outputs": [
    {
     "name": "stdout",
     "output_type": "stream",
     "text": [
      "Sequence tier of SylPart; .superset_class: OnsetRime; .subset_class: Phone\n"
     ]
    }
   ],
   "source": [
    "print(spritely[0][4])"
   ]
  },
  {
   "attachments": {},
   "cell_type": "markdown",
   "metadata": {},
   "source": [
    "We can look at the labels for this tier:"
   ]
  },
  {
   "cell_type": "code",
   "execution_count": 10,
   "metadata": {},
   "outputs": [
    {
     "name": "stdout",
     "output_type": "stream",
     "text": [
      "['', 'Onset', 'Nucleus', 'Coda', 'Onset', 'Nucleus', '']\n"
     ]
    }
   ],
   "source": [
    "print(spritely[0][4].labels)"
   ]
  },
  {
   "attachments": {},
   "cell_type": "markdown",
   "metadata": {},
   "source": [
    "And we can print out some information about the index `1` interval."
   ]
  },
  {
   "cell_type": "code",
   "execution_count": 11,
   "metadata": {},
   "outputs": [
    {
     "name": "stdout",
     "output_type": "stream",
     "text": [
      "Onset\n",
      "['S', 'P', 'R']\n"
     ]
    }
   ],
   "source": [
    "print(spritely[0][4][1].label)\n",
    "print(spritely[0][4][1].sub_labels)"
   ]
  },
  {
   "attachments": {},
   "cell_type": "markdown",
   "metadata": {},
   "source": [
    "### When the tier order != the hierarchy order\n",
    "\n",
    "It's possible that you'll be working with textgrids where the largest superset is not the topmost tier. For example, here is [the spritely textgrid reversed](../resources/spritely_rev.png).\n",
    "\n",
    "![spritely reversed](../resources/spritely_rev.png)"
   ]
  },
  {
   "attachments": {},
   "cell_type": "markdown",
   "metadata": {},
   "source": [
    "The `custom_classes()` function still needs the hierarchy to be arranged from left to right, but you can also specify a `return_order`, either by numeric index or by name, that the new classes get returned."
   ]
  },
  {
   "cell_type": "code",
   "execution_count": 12,
   "metadata": {},
   "outputs": [
    {
     "data": {
      "text/plain": [
       "[aligned_textgrid.custom_classes.Phone,\n",
       " aligned_textgrid.custom_classes.SylPart,\n",
       " aligned_textgrid.custom_classes.OnsetRime,\n",
       " aligned_textgrid.custom_classes.Syl,\n",
       " aligned_textgrid.custom_classes.Foot,\n",
       " aligned_textgrid.custom_classes.PrWord]"
      ]
     },
     "execution_count": 12,
     "metadata": {},
     "output_type": "execute_result"
    }
   ],
   "source": [
    "custom_classes(\n",
    "    class_list = [\"PrWord\", \"Foot\", \"Syl\", \"OnsetRime\", \"SylPart\", \"Phone\"],\n",
    "    return_order=[5, 4, 3, 2, 1, 0]\n",
    ")\n",
    "# -or-\n",
    "# custom_classes(\n",
    "#     class_list = [\"PrWord\", \"Foot\", \"Syl\", \"OnsetRime\", \"SylPart\", \"Phone\"],\n",
    "#     return_order=[\"Phone\", \"SylPart\", \"OnsetRime\", \"Syl\", \"Foot\", \"PrWord\"]\n",
    "# )"
   ]
  },
  {
   "attachments": {},
   "cell_type": "markdown",
   "metadata": {},
   "source": [
    "The order of these classes in the output list may have `Phone` first, but the topmost class in the hierarchy is still `PrWord`"
   ]
  },
  {
   "cell_type": "code",
   "execution_count": 13,
   "metadata": {},
   "outputs": [
    {
     "name": "stdout",
     "output_type": "stream",
     "text": [
      "AlignedTextGrid with 1 groups, each with [6] tiers. [['Phone', 'SylPart', 'OnsetRime', 'Syl', 'Foot', 'PrWord']]\n"
     ]
    }
   ],
   "source": [
    "spritely_rev = AlignedTextGrid(\n",
    "    textgrid_path= \"../resources/spritely_rev.TextGrid\",\n",
    "    entry_classes = custom_classes(\n",
    "        class_list = [\"PrWord\", \"Foot\", \"Syl\", \"OnsetRime\", \"SylPart\", \"Phone\"],\n",
    "        return_order=[5, 4, 3, 2, 1, 0]        \n",
    "    )\n",
    ")\n",
    "print(spritely_rev)"
   ]
  },
  {
   "cell_type": "code",
   "execution_count": 15,
   "metadata": {},
   "outputs": [
    {
     "data": {
      "text/plain": [
       "Sequence tier of PrWord; .superset_class: Top; .subset_class: Foot"
      ]
     },
     "execution_count": 15,
     "metadata": {},
     "output_type": "execute_result"
    }
   ],
   "source": [
    "spritely_rev[0][0]"
   ]
  },
  {
   "cell_type": "code",
   "execution_count": 16,
   "metadata": {},
   "outputs": [
    {
     "data": {
      "text/plain": [
       "[Sequence tier of PrWord; .superset_class: Top; .subset_class: Foot,\n",
       " Sequence tier of Foot; .superset_class: PrWord; .subset_class: Syl,\n",
       " Sequence tier of Syl; .superset_class: Foot; .subset_class: OnsetRime,\n",
       " Sequence tier of OnsetRime; .superset_class: Syl; .subset_class: SylPart,\n",
       " Sequence tier of SylPart; .superset_class: OnsetRime; .subset_class: Phone,\n",
       " Sequence tier of Phone; .superset_class: SylPart; .subset_class: Bottom]"
      ]
     },
     "execution_count": 16,
     "metadata": {},
     "output_type": "execute_result"
    }
   ],
   "source": [
    "spritely_rev[0].tier_list"
   ]
  },
  {
   "cell_type": "markdown",
   "metadata": {},
   "source": []
  }
 ],
 "metadata": {
  "kernelspec": {
   "display_name": "venv",
   "language": "python",
   "name": "python3"
  },
  "language_info": {
   "codemirror_mode": {
    "name": "ipython",
    "version": 3
   },
   "file_extension": ".py",
   "mimetype": "text/x-python",
   "name": "python",
   "nbconvert_exporter": "python",
   "pygments_lexer": "ipython3",
   "version": "3.10.7"
  },
  "orig_nbformat": 4
 },
 "nbformat": 4,
 "nbformat_minor": 2
}
