{
 "cells": [
  {
   "attachments": {},
   "cell_type": "markdown",
   "metadata": {},
   "source": [
    "# `aligned_textgrid` overview\n",
    "\n",
    "The goal of this package is to make the hierarchical and precedence relationships in \n",
    "TextGrids produced by forced alignment accessable and leverageable for analysis\n",
    "or recoding.\n",
    "\n",
    "For example, if we wanted to programmatically recode all /æ/ tokens which appear before nasals in a reading passage, we could do so like this:"
   ]
  },
  {
   "cell_type": "code",
   "execution_count": 1,
   "metadata": {},
   "outputs": [],
   "source": [
    "from aligned_textgrid.aligned_textgrid import AlignedTextGrid\n",
    "from aligned_textgrid.sequences.word_and_phone import Word, Phone"
   ]
  },
  {
   "cell_type": "code",
   "execution_count": 2,
   "metadata": {},
   "outputs": [],
   "source": [
    "reading_passage = AlignedTextGrid(\n",
    "    textgrid_path = \"resources/josef-fruehwald_speaker.TextGrid\",\n",
    "    entry_classes=[Word, Phone]\n",
    ")"
   ]
  },
  {
   "cell_type": "code",
   "execution_count": 3,
   "metadata": {},
   "outputs": [],
   "source": [
    "speaker_0 = reading_passage[0]"
   ]
  },
  {
   "attachments": {},
   "cell_type": "markdown",
   "metadata": {},
   "source": [
    "Let's start by looking at all of the relevant words"
   ]
  },
  {
   "cell_type": "code",
   "execution_count": 4,
   "metadata": {},
   "outputs": [
    {
     "name": "stdout",
     "output_type": "stream",
     "text": [
      "act - AE1\n",
      "and - AE1\n",
      "path - AE1\n",
      "and - AE1\n",
      "at - AE1\n",
      "man - AE1\n",
      "at - AE1\n",
      "have - AE1\n",
      "have - AE1\n",
      "imagine - AE1\n",
      "that - AE1\n",
      "as - AE1\n",
      "passed - AE1\n",
      "have - AE1\n",
      "that - AE1\n",
      "have - AE1\n",
      "that - AE1\n",
      "refraction - AE1\n",
      "have - AE1\n",
      "band - AE1\n",
      "actual - AE1\n",
      "abnormally - AE0\n",
      "band - AE1\n",
      "and - AE1\n",
      "and - AE1\n"
     ]
    }
   ],
   "source": [
    "# iterating over the phone tier\n",
    "for p in speaker_0[1]:\n",
    "    if \"AE\" in p.label:\n",
    "        print(f\"{p.inword.label} - {p.label}\")"
   ]
  },
  {
   "attachments": {},
   "cell_type": "markdown",
   "metadata": {},
   "source": [
    "Now, let's recode"
   ]
  },
  {
   "cell_type": "code",
   "execution_count": 5,
   "metadata": {},
   "outputs": [],
   "source": [
    "for p in speaker_0[1]:\n",
    "    if \"AE\" in p.label and p.fol.label in [\"M\", \"N\", \"NG\"]:\n",
    "        p.label = \"AEN\""
   ]
  },
  {
   "attachments": {},
   "cell_type": "markdown",
   "metadata": {},
   "source": [
    "If we rerun the first loop again, we'll see the labels have changed."
   ]
  },
  {
   "cell_type": "code",
   "execution_count": 6,
   "metadata": {},
   "outputs": [
    {
     "name": "stdout",
     "output_type": "stream",
     "text": [
      "act - AE1\n",
      "and - AEN\n",
      "path - AE1\n",
      "and - AEN\n",
      "at - AE1\n",
      "man - AEN\n",
      "at - AE1\n",
      "have - AE1\n",
      "have - AE1\n",
      "imagine - AE1\n",
      "that - AE1\n",
      "as - AE1\n",
      "passed - AE1\n",
      "have - AE1\n",
      "that - AE1\n",
      "have - AE1\n",
      "that - AE1\n",
      "refraction - AE1\n",
      "have - AE1\n",
      "band - AEN\n",
      "actual - AE1\n",
      "abnormally - AE0\n",
      "band - AEN\n",
      "and - AEN\n",
      "and - AEN\n"
     ]
    }
   ],
   "source": [
    "for p in speaker_0[1]:\n",
    "    if \"AE\" in p.label:\n",
    "        print(f\"{p.inword.label} - {p.label}\")"
   ]
  },
  {
   "attachments": {},
   "cell_type": "markdown",
   "metadata": {},
   "source": [
    "In the recoding loop, `p.fol.label` accessed the label of the following phone. We could also make use of the word the vowel was contained within if we wanted to, say, treat the function word \"and\" differently."
   ]
  },
  {
   "cell_type": "code",
   "execution_count": 7,
   "metadata": {},
   "outputs": [],
   "source": [
    "for p in speaker_0[1]:\n",
    "    if \"AE\" in p.label:\n",
    "        if p.fol.label in [\"M\", \"N\", \"MG\"] and p.inword.label != \"and\":\n",
    "            p.label = \"AEN\"\n",
    "        else:\n",
    "            p.label = \"AE\""
   ]
  },
  {
   "cell_type": "code",
   "execution_count": 8,
   "metadata": {},
   "outputs": [
    {
     "name": "stdout",
     "output_type": "stream",
     "text": [
      "act - AE\n",
      "and - AE\n",
      "path - AE\n",
      "and - AE\n",
      "at - AE\n",
      "man - AEN\n",
      "at - AE\n",
      "have - AE\n",
      "have - AE\n",
      "imagine - AE\n",
      "that - AE\n",
      "as - AE\n",
      "passed - AE\n",
      "have - AE\n",
      "that - AE\n",
      "have - AE\n",
      "that - AE\n",
      "refraction - AE\n",
      "have - AE\n",
      "band - AEN\n",
      "actual - AE\n",
      "abnormally - AE\n",
      "band - AEN\n",
      "and - AE\n",
      "and - AE\n"
     ]
    }
   ],
   "source": [
    "for p in speaker_0[1]:\n",
    "    if \"AE\" in p.label:\n",
    "        print(f\"{p.inword.label} - {p.label}\")"
   ]
  },
  {
   "attachments": {},
   "cell_type": "markdown",
   "metadata": {},
   "source": [
    "Since we're utilizing object reference, if we were to save the `reading_passage` TextGrid now, the \n",
    "recoding we did in these loops will be in the output."
   ]
  },
  {
   "cell_type": "code",
   "execution_count": 9,
   "metadata": {},
   "outputs": [],
   "source": [
    "reading_passage.save_textgrid(\"reading_recoded.TextGrid\")"
   ]
  },
  {
   "attachments": {},
   "cell_type": "markdown",
   "metadata": {},
   "source": [
    "A recoded example with `AE1` -> `AEN`\n",
    "\n",
    "![](man.png)\n",
    "\n",
    "A recoded example, with `AE1` -> `AE` due to the word label.\n",
    "\n",
    "![](and.png)"
   ]
  }
 ],
 "metadata": {
  "kernelspec": {
   "display_name": "venv",
   "language": "python",
   "name": "python3"
  },
  "language_info": {
   "codemirror_mode": {
    "name": "ipython",
    "version": 3
   },
   "file_extension": ".py",
   "mimetype": "text/x-python",
   "name": "python",
   "nbconvert_exporter": "python",
   "pygments_lexer": "ipython3",
   "version": "3.10.7"
  },
  "orig_nbformat": 4
 },
 "nbformat": 4,
 "nbformat_minor": 2
}
