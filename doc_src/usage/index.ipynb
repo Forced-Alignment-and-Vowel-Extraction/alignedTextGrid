{
 "cells": [
  {
   "attachments": {},
   "cell_type": "markdown",
   "metadata": {},
   "source": [
    "# `aligned_textgrid` overview\n",
    "\n",
    "The goal of this package is to make the hierarchical and precedence relationships in \n",
    "TextGrids produced by forced alignment accessable and leverageable for analysis\n",
    "or recoding. You can find a quickstart for reading in a TextGrid on this page. Here are links to other important documentation topics:\n",
    "\n",
    "- [Navigating through `AlignedTextGrid` objects](textgrids/01_tg-nav/)\n",
    "- [Available textgrid and tier properties](textgrids/02_tg-info)\n",
    "- [Navigating through `SequenceInterval`s](sequences/00_sequence_structure/)\n",
    "- [Available `SequenceInterval` properties](sequences/02_sequence_properties/)\n",
    "- [Creating custom `SequenceInterval` subclasses]\n",
    "- [Sample workflows]\n",
    "\n",
    "To quickly read in 2 tiered textgrid, like those produced by the [Montreal Forced Aligner](https://montreal-forced-aligner.readthedocs.io/en/latest/), import the `AlignedTextGrid` class and the `Word` and `Phone` interval classes."
   ]
  },
  {
   "cell_type": "code",
   "execution_count": 1,
   "metadata": {},
   "outputs": [],
   "source": [
    "from aligned_textgrid.aligned_textgrid import AlignedTextGrid\n",
    "from aligned_textgrid.sequences.word_and_phone import Word, Phone"
   ]
  },
  {
   "attachments": {},
   "cell_type": "markdown",
   "metadata": {},
   "source": [
    "`AlignedTextGrid` can take either a `textgrid_path` argument, or a `textgrid` argument for Textgrid objects that have already been created with [`praatio`](http://timmahrt.github.io/praatIO/praatio.html)."
   ]
  },
  {
   "cell_type": "code",
   "execution_count": 2,
   "metadata": {},
   "outputs": [
    {
     "data": {
      "text/plain": [
       "AlignedTextGrid with 1 groups, each with [2] tiers. [['Word', 'Phone']]"
      ]
     },
     "execution_count": 2,
     "metadata": {},
     "output_type": "execute_result"
    }
   ],
   "source": [
    "reading_passage = AlignedTextGrid(\n",
    "    textgrid_path = \"resources/josef-fruehwald_speaker.TextGrid\",\n",
    "    entry_classes=[Word, Phone]\n",
    ")\n",
    "reading_passage"
   ]
  },
  {
   "attachments": {},
   "cell_type": "markdown",
   "metadata": {},
   "source": [
    "A list of each tier is available at index 0."
   ]
  },
  {
   "cell_type": "code",
   "execution_count": 3,
   "metadata": {},
   "outputs": [
    {
     "data": {
      "text/plain": [
       "TierGroup with 2 tiers. ['Word', 'Phone']"
      ]
     },
     "execution_count": 3,
     "metadata": {},
     "output_type": "execute_result"
    }
   ],
   "source": [
    "reading_passage[0]"
   ]
  },
  {
   "attachments": {},
   "cell_type": "markdown",
   "metadata": {},
   "source": [
    "To read in a multi-talker textgrid, with the same `Word`,`Phone` organization for each speaker, the same approach works."
   ]
  },
  {
   "cell_type": "code",
   "execution_count": 4,
   "metadata": {},
   "outputs": [
    {
     "data": {
      "text/plain": [
       "AlignedTextGrid with 2 groups, each with [2, 2] tiers. [['Word', 'Phone'], ['Word', 'Phone']]"
      ]
     },
     "execution_count": 4,
     "metadata": {},
     "output_type": "execute_result"
    }
   ],
   "source": [
    "two_speaker = AlignedTextGrid(\n",
    "    textgrid_path = \"resources/KY25A_1.TextGrid\",\n",
    "    entry_classes=[Word, Phone]\n",
    ")\n",
    "two_speaker"
   ]
  },
  {
   "attachments": {},
   "cell_type": "markdown",
   "metadata": {},
   "source": [
    "The first speakers' tiers are available at index 0, and the second speakers tiers are available at index 1."
   ]
  },
  {
   "cell_type": "code",
   "execution_count": 5,
   "metadata": {},
   "outputs": [
    {
     "data": {
      "text/plain": [
       "TierGroup with 2 tiers. ['Word', 'Phone']"
      ]
     },
     "execution_count": 5,
     "metadata": {},
     "output_type": "execute_result"
    }
   ],
   "source": [
    "two_speaker[0]"
   ]
  },
  {
   "cell_type": "code",
   "execution_count": 6,
   "metadata": {},
   "outputs": [
    {
     "data": {
      "text/plain": [
       "TierGroup with 2 tiers. ['Word', 'Phone']"
      ]
     },
     "execution_count": 6,
     "metadata": {},
     "output_type": "execute_result"
    }
   ],
   "source": [
    "two_speaker[1]"
   ]
  }
 ],
 "metadata": {
  "kernelspec": {
   "display_name": "venv",
   "language": "python",
   "name": "python3"
  },
  "language_info": {
   "codemirror_mode": {
    "name": "ipython",
    "version": 3
   },
   "file_extension": ".py",
   "mimetype": "text/x-python",
   "name": "python",
   "nbconvert_exporter": "python",
   "pygments_lexer": "ipython3",
   "version": "3.10.7"
  },
  "orig_nbformat": 4
 },
 "nbformat": 4,
 "nbformat_minor": 2
}
