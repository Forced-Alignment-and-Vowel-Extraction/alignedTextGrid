{
 "cells": [
  {
   "attachments": {},
   "cell_type": "markdown",
   "metadata": {},
   "source": [
    "# Quickstart\n",
    "\n",
    "The goal of this package is to make the hierarchical and precedence relationships in \n",
    "TextGrids produced by forced alignment accessable and leverageable for analysis\n",
    "or recoding. You can find a quickstart for reading in a TextGrid on this page.\n",
    "\n",
    "## Reading in a single speaker TextGrid\n",
    "\n",
    "To quickly read in 2 tiered textgrid, like those produced by the [Montreal Forced Aligner](https://montreal-forced-aligner.readthedocs.io/en/latest/), import the `AlignedTextGrid` class and the `Word` and `Phone` interval classes."
   ]
  },
  {
   "cell_type": "code",
   "execution_count": 1,
   "metadata": {},
   "outputs": [],
   "source": [
    "from aligned_textgrid import AlignedTextGrid\n",
    "from aligned_textgrid import Word, Phone"
   ]
  },
  {
   "attachments": {},
   "cell_type": "markdown",
   "metadata": {},
   "source": [
    "`AlignedTextGrid` can take either a `textgrid_path` argument, or a `textgrid` argument for Textgrid objects that have already been created with [`praatio`](http://timmahrt.github.io/praatIO/praatio.html)."
   ]
  },
  {
   "cell_type": "code",
   "execution_count": 2,
   "metadata": {},
   "outputs": [
    {
     "data": {
      "text/plain": [
       "AlignedTextGrid with 1 groups, each with [2] tiers. [['Word', 'Phone']]"
      ]
     },
     "execution_count": 2,
     "metadata": {},
     "output_type": "execute_result"
    }
   ],
   "source": [
    "reading_passage = AlignedTextGrid(\n",
    "    textgrid_path = \"resources/josef-fruehwald_speaker.TextGrid\",\n",
    "    entry_classes=[Word, Phone]\n",
    ")\n",
    "reading_passage"
   ]
  },
  {
   "attachments": {},
   "cell_type": "markdown",
   "metadata": {},
   "source": [
    "A list of each tier is available at index 0."
   ]
  },
  {
   "cell_type": "code",
   "execution_count": 3,
   "metadata": {},
   "outputs": [
    {
     "data": {
      "text/plain": [
       "TierGroup with 2 tiers. ['Word', 'Phone']"
      ]
     },
     "execution_count": 3,
     "metadata": {},
     "output_type": "execute_result"
    }
   ],
   "source": [
    "reading_passage[0]"
   ]
  },
  {
   "cell_type": "markdown",
   "metadata": {},
   "source": [
    "You can access the specific tiers within a `TierGroup` with the name of the entry class."
   ]
  },
  {
   "cell_type": "code",
   "execution_count": 4,
   "metadata": {},
   "outputs": [
    {
     "data": {
      "text/plain": [
       "Sequence tier of Word; .superset_class: Top_wp; .subset_class: Phone"
      ]
     },
     "execution_count": 4,
     "metadata": {},
     "output_type": "execute_result"
    }
   ],
   "source": [
    "reading_passage[0].Word"
   ]
  },
  {
   "attachments": {},
   "cell_type": "markdown",
   "metadata": {},
   "source": [
    "## Multi-talker textgrids\n",
    "\n",
    "To read in a multi-talker textgrid, with the same `Word`,`Phone` organization for each speaker, the same approach works."
   ]
  },
  {
   "cell_type": "code",
   "execution_count": 5,
   "metadata": {},
   "outputs": [
    {
     "data": {
      "text/plain": [
       "AlignedTextGrid with 2 groups, each with [2, 2] tiers. [['Word', 'Phone'], ['Word', 'Phone']]"
      ]
     },
     "execution_count": 5,
     "metadata": {},
     "output_type": "execute_result"
    }
   ],
   "source": [
    "two_speaker = AlignedTextGrid(\n",
    "    textgrid_path = \"resources/KY25A_1.TextGrid\",\n",
    "    entry_classes=[Word, Phone]\n",
    ")\n",
    "two_speaker"
   ]
  },
  {
   "attachments": {},
   "cell_type": "markdown",
   "metadata": {},
   "source": [
    "The first speakers' tiers are available at index 0, and the second speakers tiers are available at index 1."
   ]
  },
  {
   "cell_type": "code",
   "execution_count": 6,
   "metadata": {},
   "outputs": [
    {
     "data": {
      "text/plain": [
       "TierGroup with 2 tiers. ['Word', 'Phone']"
      ]
     },
     "execution_count": 6,
     "metadata": {},
     "output_type": "execute_result"
    }
   ],
   "source": [
    "two_speaker[0]"
   ]
  },
  {
   "cell_type": "code",
   "execution_count": 7,
   "metadata": {},
   "outputs": [
    {
     "data": {
      "text/plain": [
       "TierGroup with 2 tiers. ['Word', 'Phone']"
      ]
     },
     "execution_count": 7,
     "metadata": {},
     "output_type": "execute_result"
    }
   ],
   "source": [
    "two_speaker[1]"
   ]
  },
  {
   "cell_type": "markdown",
   "metadata": {},
   "source": [
    "## Accessing intervals\n",
    "\n",
    "You can access intervals within a tier via ordinary indexing, looping, list comprehensions, etc."
   ]
  },
  {
   "cell_type": "code",
   "execution_count": 8,
   "metadata": {},
   "outputs": [
    {
     "name": "stdout",
     "output_type": "stream",
     "text": [
      "\n",
      "yeah\n",
      "\n",
      "well\n",
      "now\n",
      "\n",
      "you\n",
      "\n",
      "might\n",
      "\n",
      "start\n",
      "that\n",
      "\n",
      "i\n",
      "was\n",
      "born\n",
      "in\n",
      "\n",
      "eighteen\n",
      "sixty\n",
      "seven\n",
      "\n",
      "nintey\n",
      "three\n",
      "\n"
     ]
    }
   ],
   "source": [
    "for word in two_speaker[0].Word:\n",
    "    print(word.label)"
   ]
  }
 ],
 "metadata": {
  "kernelspec": {
   "display_name": "venv",
   "language": "python",
   "name": "python3"
  },
  "language_info": {
   "codemirror_mode": {
    "name": "ipython",
    "version": 3
   },
   "file_extension": ".py",
   "mimetype": "text/x-python",
   "name": "python",
   "nbconvert_exporter": "python",
   "pygments_lexer": "ipython3",
   "version": "3.10.7"
  },
  "orig_nbformat": 4
 },
 "nbformat": 4,
 "nbformat_minor": 2
}
