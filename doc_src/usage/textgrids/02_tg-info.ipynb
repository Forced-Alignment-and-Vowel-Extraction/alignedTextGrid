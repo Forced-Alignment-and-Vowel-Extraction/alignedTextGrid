{
 "cells": [
  {
   "attachments": {},
   "cell_type": "markdown",
   "metadata": {},
   "source": [
    "# TextGrid and Tier Properties"
   ]
  },
  {
   "attachments": {},
   "cell_type": "markdown",
   "metadata": {},
   "source": [
    "There are a few useful pieces of information available at the AlignedTextGrid, TierGroups, and Tier levels"
   ]
  },
  {
   "cell_type": "code",
   "execution_count": 1,
   "metadata": {},
   "outputs": [],
   "source": [
    "from aligned_textgrid.aligned_textgrid import AlignedTextGrid\n",
    "from aligned_textgrid.sequences.word_and_phone import Word, Phone"
   ]
  },
  {
   "cell_type": "code",
   "execution_count": 2,
   "metadata": {},
   "outputs": [],
   "source": [
    "two_speaker = AlignedTextGrid(\n",
    "    textgrid_path = \"../resources/KY25A_1.TextGrid\",\n",
    "    entry_classes= [Word, Phone]\n",
    ")"
   ]
  },
  {
   "attachments": {},
   "cell_type": "markdown",
   "metadata": {},
   "source": [
    "## Tier Names"
   ]
  },
  {
   "cell_type": "code",
   "execution_count": 3,
   "metadata": {},
   "outputs": [
    {
     "data": {
      "text/plain": [
       "[['KY25A - words', 'KY25A - phones'], ['IVR - words', 'IVR - phones']]"
      ]
     },
     "execution_count": 3,
     "metadata": {},
     "output_type": "execute_result"
    }
   ],
   "source": [
    "# AlignedTextGrid level\n",
    "two_speaker.tier_names"
   ]
  },
  {
   "cell_type": "code",
   "execution_count": 4,
   "metadata": {},
   "outputs": [
    {
     "data": {
      "text/plain": [
       "['KY25A - words', 'KY25A - phones']"
      ]
     },
     "execution_count": 4,
     "metadata": {},
     "output_type": "execute_result"
    }
   ],
   "source": [
    "# TierGroup level\n",
    "two_speaker[0].tier_names"
   ]
  },
  {
   "cell_type": "code",
   "execution_count": 5,
   "metadata": {},
   "outputs": [
    {
     "data": {
      "text/plain": [
       "'KY25A - words'"
      ]
     },
     "execution_count": 5,
     "metadata": {},
     "output_type": "execute_result"
    }
   ],
   "source": [
    "# Tier level\n",
    "two_speaker[0][0].name "
   ]
  },
  {
   "attachments": {},
   "cell_type": "markdown",
   "metadata": {},
   "source": [
    "## xmin and xmax"
   ]
  },
  {
   "cell_type": "code",
   "execution_count": 6,
   "metadata": {},
   "outputs": [
    {
     "data": {
      "text/plain": [
       "[0.0, 26.774]"
      ]
     },
     "execution_count": 6,
     "metadata": {},
     "output_type": "execute_result"
    }
   ],
   "source": [
    "# aligned textgrid level\n",
    "[two_speaker.xmin, two_speaker.xmax]"
   ]
  },
  {
   "cell_type": "code",
   "execution_count": 7,
   "metadata": {},
   "outputs": [
    {
     "data": {
      "text/plain": [
       "[0.0, 26.774]"
      ]
     },
     "execution_count": 7,
     "metadata": {},
     "output_type": "execute_result"
    }
   ],
   "source": [
    "# tier groups level\n",
    "[two_speaker[0].xmin, two_speaker[0].xmax]"
   ]
  },
  {
   "cell_type": "code",
   "execution_count": 8,
   "metadata": {},
   "outputs": [
    {
     "data": {
      "text/plain": [
       "[0.0, 26.774]"
      ]
     },
     "execution_count": 8,
     "metadata": {},
     "output_type": "execute_result"
    }
   ],
   "source": [
    "# tier level\n",
    "[two_speaker[0][0].xmin, two_speaker[0][0].xmax]"
   ]
  },
  {
   "attachments": {},
   "cell_type": "markdown",
   "metadata": {},
   "source": [
    "## Entry Classes"
   ]
  },
  {
   "cell_type": "code",
   "execution_count": 9,
   "metadata": {},
   "outputs": [
    {
     "data": {
      "text/plain": [
       "[[aligned_textgrid.sequences.word_and_phone.Word,\n",
       "  aligned_textgrid.sequences.word_and_phone.Phone],\n",
       " [aligned_textgrid.sequences.word_and_phone.Word,\n",
       "  aligned_textgrid.sequences.word_and_phone.Phone]]"
      ]
     },
     "execution_count": 9,
     "metadata": {},
     "output_type": "execute_result"
    }
   ],
   "source": [
    "# aligned text grid level\n",
    "two_speaker.entry_classes"
   ]
  },
  {
   "cell_type": "code",
   "execution_count": 10,
   "metadata": {},
   "outputs": [
    {
     "data": {
      "text/plain": [
       "[aligned_textgrid.sequences.word_and_phone.Word,\n",
       " aligned_textgrid.sequences.word_and_phone.Phone]"
      ]
     },
     "execution_count": 10,
     "metadata": {},
     "output_type": "execute_result"
    }
   ],
   "source": [
    "# tier group level\n",
    "two_speaker[0].entry_classes"
   ]
  },
  {
   "cell_type": "code",
   "execution_count": 11,
   "metadata": {},
   "outputs": [
    {
     "data": {
      "text/plain": [
       "aligned_textgrid.sequences.word_and_phone.Word"
      ]
     },
     "execution_count": 11,
     "metadata": {},
     "output_type": "execute_result"
    }
   ],
   "source": [
    "# tier level\n",
    "two_speaker[0][0].entry_class"
   ]
  },
  {
   "attachments": {},
   "cell_type": "markdown",
   "metadata": {},
   "source": [
    "## Starts, ends and labels\n",
    "These are only implemented at the tier level."
   ]
  },
  {
   "cell_type": "code",
   "execution_count": 12,
   "metadata": {},
   "outputs": [
    {
     "data": {
      "text/plain": [
       "array([ 0.    , 10.7017, 11.0017, 13.3117, 13.6517, 13.9017, 13.9317,\n",
       "       14.9717, 15.0017, 15.3117, 15.4517, 15.9417, 16.3217, 17.0217,\n",
       "       17.2117, 17.3317, 17.7917, 18.0917, 18.9517, 19.7717, 20.2717,\n",
       "       20.6417, 24.3517, 24.7317, 25.1717])"
      ]
     },
     "execution_count": 12,
     "metadata": {},
     "output_type": "execute_result"
    }
   ],
   "source": [
    "# every start time\n",
    "two_speaker[0][0].starts"
   ]
  },
  {
   "cell_type": "code",
   "execution_count": 13,
   "metadata": {},
   "outputs": [
    {
     "data": {
      "text/plain": [
       "array([10.7017, 11.0017, 13.3117, 13.6517, 13.9017, 13.9317, 14.9717,\n",
       "       15.0017, 15.3117, 15.4517, 15.9417, 16.3217, 17.0217, 17.2117,\n",
       "       17.3317, 17.7917, 18.0917, 18.9517, 19.7717, 20.2717, 20.6417,\n",
       "       24.3517, 24.7317, 25.1717, 26.774 ])"
      ]
     },
     "execution_count": 13,
     "metadata": {},
     "output_type": "execute_result"
    }
   ],
   "source": [
    "# every end time\n",
    "two_speaker[0][0].ends"
   ]
  },
  {
   "cell_type": "code",
   "execution_count": 14,
   "metadata": {},
   "outputs": [
    {
     "data": {
      "text/plain": [
       "['',\n",
       " 'yeah',\n",
       " '',\n",
       " 'well',\n",
       " 'now',\n",
       " '',\n",
       " 'you',\n",
       " '',\n",
       " 'might',\n",
       " '',\n",
       " 'start',\n",
       " 'that',\n",
       " '',\n",
       " 'i',\n",
       " 'was',\n",
       " 'born',\n",
       " 'in',\n",
       " '',\n",
       " 'eighteen',\n",
       " 'sixty',\n",
       " 'seven',\n",
       " '',\n",
       " 'nintey',\n",
       " 'three',\n",
       " '']"
      ]
     },
     "execution_count": 14,
     "metadata": {},
     "output_type": "execute_result"
    }
   ],
   "source": [
    "# every label\n",
    "two_speaker[0][0].labels"
   ]
  },
  {
   "cell_type": "code",
   "execution_count": null,
   "metadata": {},
   "outputs": [],
   "source": []
  }
 ],
 "metadata": {
  "kernelspec": {
   "display_name": "venv",
   "language": "python",
   "name": "python3"
  },
  "language_info": {
   "codemirror_mode": {
    "name": "ipython",
    "version": 3
   },
   "file_extension": ".py",
   "mimetype": "text/x-python",
   "name": "python",
   "nbconvert_exporter": "python",
   "pygments_lexer": "ipython3",
   "version": "3.10.7"
  },
  "orig_nbformat": 4
 },
 "nbformat": 4,
 "nbformat_minor": 2
}
