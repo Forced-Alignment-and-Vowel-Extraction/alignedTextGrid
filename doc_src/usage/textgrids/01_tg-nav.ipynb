{
 "cells": [
  {
   "attachments": {},
   "cell_type": "markdown",
   "metadata": {},
   "source": [
    "# Navigating an `AlignedTextGrid`"
   ]
  },
  {
   "attachments": {},
   "cell_type": "markdown",
   "metadata": {},
   "source": [
    "This documentation covers reading in the output from the Montreal Forced Aligner using the `Word` and `Phone` classes from `aligned_textgrid`, but everything will generalize to custom classes."
   ]
  },
  {
   "cell_type": "code",
   "execution_count": 1,
   "metadata": {},
   "outputs": [],
   "source": [
    "from aligned_textgrid.aligned_textgrid import AlignedTextGrid\n",
    "from aligned_textgrid.sequences.word_and_phone import Word, Phone"
   ]
  },
  {
   "attachments": {},
   "cell_type": "markdown",
   "metadata": {},
   "source": [
    "## Reading in a TextGrid\n",
    "\n",
    "To read in a [one-speaker TextGrid](../resources/josef-fruehwald_speaker.TextGrid), either give `AlignedTextGrid()` the path to the file, or a textgrid that has already been read in with `praatio.textgrid.openTextgrid()`.\n",
    "\n",
    "You also need to specify the sequence classes of each tier in the order they appear. For MFA output, the top tier is `Word` and the bottom tier is `Phone`, but if these were reversed, you would have to pass `[Phone, Word]` to `entry_classes`. The information about which class is the superset and which is the subset is [encoded in the class information](../../sequences/01_sequence_properties/#class-strictness), and is automatically handled."
   ]
  },
  {
   "cell_type": "code",
   "execution_count": 2,
   "metadata": {},
   "outputs": [],
   "source": [
    "one_speaker = AlignedTextGrid(\n",
    "    textgrid_path = \"../resources/josef-fruehwald_speaker.TextGrid\", \n",
    "    entry_classes = [Word, Phone]\n",
    ")"
   ]
  },
  {
   "attachments": {},
   "cell_type": "markdown",
   "metadata": {},
   "source": [
    "With a [two or more speaker TextGrid](../resources/KY25A_1.TextGrid), you can either pass `entry_classes` a single list of interval classes to re-use with each speaker (for example `[Word, Phone]`), or an explicit list of nested classes \n",
    "(for example, `[[Word, Phone], [Word, Phone]]`).\n"
   ]
  },
  {
   "cell_type": "code",
   "execution_count": 3,
   "metadata": {},
   "outputs": [],
   "source": [
    "two_speaker = AlignedTextGrid(\n",
    "    textgrid_path = \"../resources/KY25A_1.TextGrid\",\n",
    "    entry_classes= [Word, Phone]\n",
    ")"
   ]
  },
  {
   "attachments": {},
   "cell_type": "markdown",
   "metadata": {},
   "source": [
    "## Navigating the `AlignedTextGrid` object\n",
    "\n",
    "Every `AlignedTextGrid` object contains at least one `TierGroup`, which in turn contains at least one `SequenceTier`.\n",
    "\n",
    "![aligned-textgrid](../assets/alignedtextgrid.svg)\n",
    "\n",
    "This information is available if you print the object:"
   ]
  },
  {
   "cell_type": "code",
   "execution_count": 16,
   "metadata": {},
   "outputs": [
    {
     "name": "stdout",
     "output_type": "stream",
     "text": [
      "AlignedTextGrid with 2 groups, each with [2, 2] tiers. [['Word', 'Phone'], ['Word', 'Phone']]\n"
     ]
    }
   ],
   "source": [
    "print(two_speaker)"
   ]
  },
  {
   "attachments": {},
   "cell_type": "markdown",
   "metadata": {},
   "source": [
    "Or if you compare the `len()` of the one speaker vs two speaker textgrids.\""
   ]
  },
  {
   "cell_type": "code",
   "execution_count": 17,
   "metadata": {},
   "outputs": [
    {
     "name": "stdout",
     "output_type": "stream",
     "text": [
      "1\n",
      "2\n"
     ]
    }
   ],
   "source": [
    "print(len(one_speaker))\n",
    "print(len(two_speaker))"
   ]
  },
  {
   "attachments": {},
   "cell_type": "markdown",
   "metadata": {},
   "source": [
    "To get the Word tier of the first speaker in `one_speaker`, we can index it with `[0][0]`"
   ]
  },
  {
   "cell_type": "code",
   "execution_count": 18,
   "metadata": {},
   "outputs": [
    {
     "data": {
      "text/plain": [
       "Sequence tier of Word; .superset_class: Top; .subset_class: Phone"
      ]
     },
     "execution_count": 18,
     "metadata": {},
     "output_type": "execute_result"
    }
   ],
   "source": [
    "one_speaker[0][0]"
   ]
  },
  {
   "attachments": {},
   "cell_type": "markdown",
   "metadata": {},
   "source": [
    "If you'd prefer to wrote more verbose but explicit code, you can also access tiers via the `.tier_groups` and `.tier_list` attributes as well."
   ]
  },
  {
   "cell_type": "code",
   "execution_count": 21,
   "metadata": {},
   "outputs": [
    {
     "data": {
      "text/plain": [
       "Sequence tier of Word; .superset_class: Top; .subset_class: Phone"
      ]
     },
     "execution_count": 21,
     "metadata": {},
     "output_type": "execute_result"
    }
   ],
   "source": [
    "one_speaker.tier_groups[0].tier_list[0]"
   ]
  },
  {
   "attachments": {},
   "cell_type": "markdown",
   "metadata": {},
   "source": [
    "To access the individual sequence intervals in a tier, you can also use indexing."
   ]
  },
  {
   "cell_type": "code",
   "execution_count": 23,
   "metadata": {},
   "outputs": [
    {
     "data": {
      "text/plain": [
       "Class Word, label: sunlight, .superset_class: Top, .super_instance, None, .subset_class: Phone, .subset_list: ['S', 'AH1', 'N', 'L', 'AY2', 'T']"
      ]
     },
     "execution_count": 23,
     "metadata": {},
     "output_type": "execute_result"
    }
   ],
   "source": [
    "one_speaker[0][0][3]"
   ]
  },
  {
   "attachments": {},
   "cell_type": "markdown",
   "metadata": {},
   "source": [
    "Tiers are also iterable."
   ]
  },
  {
   "cell_type": "code",
   "execution_count": 25,
   "metadata": {},
   "outputs": [
    {
     "name": "stdout",
     "output_type": "stream",
     "text": [
      "\n",
      "when\n",
      "the\n",
      "sunlight\n",
      "strikes\n"
     ]
    }
   ],
   "source": [
    "for i in range(5):\n",
    "    print(one_speaker[0][0][i].label)"
   ]
  },
  {
   "attachments": {},
   "cell_type": "markdown",
   "metadata": {},
   "source": [
    "Once you've gotten to a sequence interval, indexing goes into its [`.subset_list`](../../sequences/00_sequence_structure/#moving-downwards)"
   ]
  },
  {
   "attachments": {},
   "cell_type": "markdown",
   "metadata": {},
   "source": [
    "## Get interval at time"
   ]
  },
  {
   "cell_type": "code",
   "execution_count": 30,
   "metadata": {},
   "outputs": [
    {
     "data": {
      "text/plain": [
       "[[1, 2], [39, 96]]"
      ]
     },
     "execution_count": 30,
     "metadata": {},
     "output_type": "execute_result"
    }
   ],
   "source": [
    "two_speaker.get_intervals_at_time(11)"
   ]
  },
  {
   "cell_type": "code",
   "execution_count": 31,
   "metadata": {},
   "outputs": [
    {
     "data": {
      "text/plain": [
       "[1, 2]"
      ]
     },
     "execution_count": 31,
     "metadata": {},
     "output_type": "execute_result"
    }
   ],
   "source": [
    "speaker_one = two_speaker[0]\n",
    "speaker_one.get_intervals_at_time(11)"
   ]
  },
  {
   "cell_type": "code",
   "execution_count": 32,
   "metadata": {},
   "outputs": [
    {
     "data": {
      "text/plain": [
       "1"
      ]
     },
     "execution_count": 32,
     "metadata": {},
     "output_type": "execute_result"
    }
   ],
   "source": [
    "speaker_one_word = speaker_one[0]\n",
    "speaker_one_word.get_interval_at_time(11)"
   ]
  },
  {
   "attachments": {},
   "cell_type": "markdown",
   "metadata": {},
   "source": [
    "## Useful information\n",
    "Useful information available about each level of the tiers:"
   ]
  },
  {
   "cell_type": "code",
   "execution_count": 9,
   "metadata": {},
   "outputs": [
    {
     "data": {
      "text/plain": [
       "[['KY25A - words', 'KY25A - phones'], ['IVR - words', 'IVR - phones']]"
      ]
     },
     "execution_count": 9,
     "metadata": {},
     "output_type": "execute_result"
    }
   ],
   "source": [
    "two_speaker.tier_names"
   ]
  },
  {
   "cell_type": "code",
   "execution_count": 10,
   "metadata": {},
   "outputs": [
    {
     "data": {
      "text/plain": [
       "[[aligned_textgrid.sequences.word_and_phone.Word,\n",
       "  aligned_textgrid.sequences.word_and_phone.Phone],\n",
       " [aligned_textgrid.sequences.word_and_phone.Word,\n",
       "  aligned_textgrid.sequences.word_and_phone.Phone]]"
      ]
     },
     "execution_count": 10,
     "metadata": {},
     "output_type": "execute_result"
    }
   ],
   "source": [
    "two_speaker.entry_classes"
   ]
  },
  {
   "cell_type": "code",
   "execution_count": 11,
   "metadata": {},
   "outputs": [
    {
     "data": {
      "text/plain": [
       "26.774"
      ]
     },
     "execution_count": 11,
     "metadata": {},
     "output_type": "execute_result"
    }
   ],
   "source": [
    "two_speaker[0][0].xmax"
   ]
  },
  {
   "cell_type": "code",
   "execution_count": 12,
   "metadata": {},
   "outputs": [
    {
     "data": {
      "text/plain": [
       "array([ 0.    , 10.7017, 11.0017, 13.3117, 13.6517, 13.9017, 13.9317,\n",
       "       14.9717, 15.0017, 15.3117, 15.4517, 15.9417, 16.3217, 17.0217,\n",
       "       17.2117, 17.3317, 17.7917, 18.0917, 18.9517, 19.7717, 20.2717,\n",
       "       20.6417, 24.3517, 24.7317, 25.1717])"
      ]
     },
     "execution_count": 12,
     "metadata": {},
     "output_type": "execute_result"
    }
   ],
   "source": [
    "two_speaker[0][0].starts"
   ]
  },
  {
   "cell_type": "code",
   "execution_count": 13,
   "metadata": {},
   "outputs": [
    {
     "data": {
      "text/plain": [
       "['',\n",
       " 'yeah',\n",
       " '',\n",
       " 'well',\n",
       " 'now',\n",
       " '',\n",
       " 'you',\n",
       " '',\n",
       " 'might',\n",
       " '',\n",
       " 'start',\n",
       " 'that',\n",
       " '',\n",
       " 'i',\n",
       " 'was',\n",
       " 'born',\n",
       " 'in',\n",
       " '',\n",
       " 'eighteen',\n",
       " 'sixty',\n",
       " 'seven',\n",
       " '',\n",
       " 'nintey',\n",
       " 'three',\n",
       " '']"
      ]
     },
     "execution_count": 13,
     "metadata": {},
     "output_type": "execute_result"
    }
   ],
   "source": [
    "two_speaker[0][0].labels"
   ]
  },
  {
   "attachments": {},
   "cell_type": "markdown",
   "metadata": {},
   "source": [
    "`get_interval_at_time()` is implemented at the tier level."
   ]
  },
  {
   "cell_type": "code",
   "execution_count": 14,
   "metadata": {},
   "outputs": [
    {
     "data": {
      "text/plain": [
       "2"
      ]
     },
     "execution_count": 14,
     "metadata": {},
     "output_type": "execute_result"
    }
   ],
   "source": [
    "two_speaker[0][0].get_interval_at_time(11.2)"
   ]
  },
  {
   "attachments": {},
   "cell_type": "markdown",
   "metadata": {},
   "source": [
    "At the tier group and overall textgrid levels, the method is called `get_intervals_at_time()`"
   ]
  },
  {
   "cell_type": "code",
   "execution_count": 15,
   "metadata": {},
   "outputs": [
    {
     "data": {
      "text/plain": [
       "[[2, 3], [40, 100]]"
      ]
     },
     "execution_count": 15,
     "metadata": {},
     "output_type": "execute_result"
    }
   ],
   "source": [
    "two_speaker.get_intervals_at_time(11.2)"
   ]
  }
 ],
 "metadata": {
  "kernelspec": {
   "display_name": "venv",
   "language": "python",
   "name": "python3"
  },
  "language_info": {
   "codemirror_mode": {
    "name": "ipython",
    "version": 3
   },
   "file_extension": ".py",
   "mimetype": "text/x-python",
   "name": "python",
   "nbconvert_exporter": "python",
   "pygments_lexer": "ipython3",
   "version": "3.10.7"
  },
  "orig_nbformat": 4
 },
 "nbformat": 4,
 "nbformat_minor": 2
}
