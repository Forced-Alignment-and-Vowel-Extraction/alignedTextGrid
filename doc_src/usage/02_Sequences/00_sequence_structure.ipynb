{
 "cells": [
  {
   "attachments": {},
   "cell_type": "markdown",
   "metadata": {},
   "source": [
    "# Sequence Navigation\n",
    "\n",
    "Let's say we began with [this textgrid](../../resources/the_dog.TextGrid) and read it in with `AlignedTextGrid()`.\n",
    "\n",
    "![the dog](../../resources/the_dog.png)"
   ]
  },
  {
   "cell_type": "code",
   "execution_count": 1,
   "metadata": {},
   "outputs": [
    {
     "name": "stdout",
     "output_type": "stream",
     "text": [
      "AlignedTextGrid with 1 groups, each with [2] tiers. [['Word', 'Phone']]\n"
     ]
    }
   ],
   "source": [
    "from aligned_textgrid import AlignedTextGrid\n",
    "from aligned_textgrid import Word, Phone\n",
    "\n",
    "the_dog = AlignedTextGrid(\n",
    "    textgrid_path=\"../resources/the_dog.TextGrid\", \n",
    "    entry_classes=[Word, Phone]\n",
    "    )\n",
    "print(the_dog)"
   ]
  },
  {
   "attachments": {},
   "cell_type": "markdown",
   "metadata": {},
   "source": [
    "Let's grab the objects representing the schwa in \"the\" and the the entire word \"dog\"."
   ]
  },
  {
   "cell_type": "code",
   "execution_count": 2,
   "metadata": {},
   "outputs": [],
   "source": [
    "AH0 = the_dog.tier_groups[0].tier_list[1].sequence_list[1]\n",
    "dog = the_dog.tier_groups[0].tier_list[0].sequence_list[1]"
   ]
  },
  {
   "attachments": {},
   "cell_type": "markdown",
   "metadata": {},
   "source": [
    "Both of these objects have got basic interval information available as attributes, specifically `.start`, `.end` and `.label.`"
   ]
  },
  {
   "cell_type": "code",
   "execution_count": 3,
   "metadata": {},
   "outputs": [
    {
     "data": {
      "text/plain": [
       "[0.1827542202196579, 0.308291607646728, 'AH0']"
      ]
     },
     "execution_count": 3,
     "metadata": {},
     "output_type": "execute_result"
    }
   ],
   "source": [
    "[AH0.start, AH0.end, AH0.label]"
   ]
  },
  {
   "cell_type": "code",
   "execution_count": 4,
   "metadata": {},
   "outputs": [
    {
     "data": {
      "text/plain": [
       "[0.308291607646728, 0.9665869095874072, 'dog']"
      ]
     },
     "execution_count": 4,
     "metadata": {},
     "output_type": "execute_result"
    }
   ],
   "source": [
    "[dog.start, dog.end, dog.label]"
   ]
  },
  {
   "attachments": {},
   "cell_type": "markdown",
   "metadata": {},
   "source": [
    "From within these sequence intervals, we can *also* access information from the precedence and hierarchical relationships."
   ]
  },
  {
   "attachments": {},
   "cell_type": "markdown",
   "metadata": {},
   "source": [
    "## The Precedence and Hierarchy structure\n",
    "\n",
    "Here is a schematic illustration of how each Sequence Interval is related to the others.\n",
    "\n",
    "![Sequence Structure](../../resources/diagrams/hierarchy_precedence.svg)\n",
    "\n",
    "### Working with precedence\n",
    "\n",
    "For our `AH0` object, we can access its preceding phone with .prev"
   ]
  },
  {
   "cell_type": "code",
   "execution_count": 5,
   "metadata": {},
   "outputs": [
    {
     "data": {
      "text/plain": [
       "Class Phone, label: DH, .superset_class: Word, .super_instance: the, .subset_class: Bottom"
      ]
     },
     "execution_count": 5,
     "metadata": {},
     "output_type": "execute_result"
    }
   ],
   "source": [
    "AH0.prev"
   ]
  },
  {
   "attachments": {},
   "cell_type": "markdown",
   "metadata": {},
   "source": [
    "Importantly, this is the *actual* preceding Sequence Interval object, so we an access all of *it's* interval information like we did for `AH0` itself."
   ]
  },
  {
   "cell_type": "code",
   "execution_count": 6,
   "metadata": {},
   "outputs": [
    {
     "data": {
      "text/plain": [
       "[0.0, 0.1827542202196579, 'DH']"
      ]
     },
     "execution_count": 6,
     "metadata": {},
     "output_type": "execute_result"
    }
   ],
   "source": [
    "[AH0.prev.start, AH0.prev.end, AH0.prev.label]"
   ]
  },
  {
   "attachments": {},
   "cell_type": "markdown",
   "metadata": {},
   "source": [
    "Because `AH0` is the final Sequence Interval within this word, its `.fol` attribute is a reference to a dummy boundary interval."
   ]
  },
  {
   "cell_type": "code",
   "execution_count": 7,
   "metadata": {},
   "outputs": [
    {
     "data": {
      "text/plain": [
       "[None, None, '#']"
      ]
     },
     "execution_count": 7,
     "metadata": {},
     "output_type": "execute_result"
    }
   ],
   "source": [
    "[AH0.fol.start, AH0.fol.end, AH0.fol.label]"
   ]
  },
  {
   "attachments": {},
   "cell_type": "markdown",
   "metadata": {},
   "source": [
    "The `dog` object from the word tier has the same `.prev` and `.fol` methods available."
   ]
  },
  {
   "cell_type": "code",
   "execution_count": 8,
   "metadata": {},
   "outputs": [
    {
     "data": {
      "text/plain": [
       "[0.0, 0.308291607646728, 'the']"
      ]
     },
     "execution_count": 8,
     "metadata": {},
     "output_type": "execute_result"
    }
   ],
   "source": [
    "[dog.prev.start, dog.prev.end, dog.prev.label]"
   ]
  },
  {
   "cell_type": "code",
   "execution_count": 9,
   "metadata": {},
   "outputs": [
    {
     "data": {
      "text/plain": [
       "[None, None, '#']"
      ]
     },
     "execution_count": 9,
     "metadata": {},
     "output_type": "execute_result"
    }
   ],
   "source": [
    "[dog.fol.start, dog.fol.end, dog.fol.label]"
   ]
  },
  {
   "attachments": {},
   "cell_type": "markdown",
   "metadata": {},
   "source": [
    "### Using hierarchy\n",
    "\n",
    "#### Moving upwards\n",
    "\n",
    "You can also navigate upwards and downwards with these objects. The most general attribute to get the Sequence Interval above is `.super_instance`"
   ]
  },
  {
   "cell_type": "code",
   "execution_count": 10,
   "metadata": {},
   "outputs": [
    {
     "data": {
      "text/plain": [
       "Class Word, label: the, .superset_class: Top, .super_instance, None, .subset_class: Phone, .subset_list: ['DH', 'AH0']"
      ]
     },
     "execution_count": 10,
     "metadata": {},
     "output_type": "execute_result"
    }
   ],
   "source": [
    "AH0.super_instance"
   ]
  },
  {
   "attachments": {},
   "cell_type": "markdown",
   "metadata": {},
   "source": [
    "However, the `Phone` class from `aligned_textgrid.sequences.word_and_phone` also has an `.inword` attribute for convenience."
   ]
  },
  {
   "cell_type": "code",
   "execution_count": 11,
   "metadata": {},
   "outputs": [
    {
     "data": {
      "text/plain": [
       "Class Word, label: the, .superset_class: Top, .super_instance, None, .subset_class: Phone, .subset_list: ['DH', 'AH0']"
      ]
     },
     "execution_count": 11,
     "metadata": {},
     "output_type": "execute_result"
    }
   ],
   "source": [
    "AH0.inword"
   ]
  },
  {
   "cell_type": "code",
   "execution_count": 12,
   "metadata": {},
   "outputs": [
    {
     "data": {
      "text/plain": [
       "[0.0, 0.308291607646728, 'the']"
      ]
     },
     "execution_count": 12,
     "metadata": {},
     "output_type": "execute_result"
    }
   ],
   "source": [
    "[AH0.inword.start, AH0.inword.end, AH0.inword.label]"
   ]
  },
  {
   "attachments": {},
   "cell_type": "markdown",
   "metadata": {},
   "source": [
    "#### Moving Downwards\n",
    "From the `dog` object, we can navigate downwards with the `.subset_list` attribute, which returns a list of each phone Sequence Interval."
   ]
  },
  {
   "cell_type": "code",
   "execution_count": 13,
   "metadata": {},
   "outputs": [
    {
     "data": {
      "text/plain": [
       "[Class Phone, label: D, .superset_class: Word, .super_instance: dog, .subset_class: Bottom,\n",
       " Class Phone, label: AO1, .superset_class: Word, .super_instance: dog, .subset_class: Bottom,\n",
       " Class Phone, label: G, .superset_class: Word, .super_instance: dog, .subset_class: Bottom]"
      ]
     },
     "execution_count": 13,
     "metadata": {},
     "output_type": "execute_result"
    }
   ],
   "source": [
    "dog.subset_list"
   ]
  },
  {
   "attachments": {},
   "cell_type": "markdown",
   "metadata": {},
   "source": [
    "We can also directly index into the subset list with `dog[]`\n",
    "\n",
    "![Sequence indexing](../../resources/diagrams/sequence_indexing.svg)"
   ]
  },
  {
   "cell_type": "code",
   "execution_count": 14,
   "metadata": {},
   "outputs": [
    {
     "data": {
      "text/plain": [
       "Class Phone, label: G, .superset_class: Word, .super_instance: dog, .subset_class: Bottom"
      ]
     },
     "execution_count": 14,
     "metadata": {},
     "output_type": "execute_result"
    }
   ],
   "source": [
    "dog[2]"
   ]
  },
  {
   "cell_type": "code",
   "execution_count": 15,
   "metadata": {},
   "outputs": [
    {
     "data": {
      "text/plain": [
       "[0.8356850885224085, 0.9665869095874072, 'G']"
      ]
     },
     "execution_count": 15,
     "metadata": {},
     "output_type": "execute_result"
    }
   ],
   "source": [
    "[dog[2].start, dog[2].end, dog[2].label]"
   ]
  },
  {
   "attachments": {},
   "cell_type": "markdown",
   "metadata": {},
   "source": [
    "### Moving all around\n",
    "\n",
    "Since each of these attributes (`.prev`, `.fol`, `.inword` and `.subset_list`) returns the actual Sequence Interval objects, we can chain them together to create a path through the hierarchy. For example, we can see that `AH0` is the final phone in its word."
   ]
  },
  {
   "cell_type": "code",
   "execution_count": 16,
   "metadata": {},
   "outputs": [
    {
     "data": {
      "text/plain": [
       "'#'"
      ]
     },
     "execution_count": 16,
     "metadata": {},
     "output_type": "execute_result"
    }
   ],
   "source": [
    "AH0.fol.label"
   ]
  },
  {
   "attachments": {},
   "cell_type": "markdown",
   "metadata": {},
   "source": [
    "To get the label of the first phone of the following word, we can move up to `.inword`, over one with `.fol` and then index down into the `.subset_list`.\n",
    "\n",
    "![hierarchy path](../../resources/diagrams/hierarchy_path.svg)\n",
    "\n",
    "There is an easier way to do this with [tier references](../01_sequence-in-tier/#tier-wise-relationships). This example is just to illustrate how a path can be constructed"
   ]
  },
  {
   "cell_type": "code",
   "execution_count": 17,
   "metadata": {},
   "outputs": [
    {
     "data": {
      "text/plain": [
       "Class Phone, label: D, .superset_class: Word, .super_instance: dog, .subset_class: Bottom"
      ]
     },
     "execution_count": 17,
     "metadata": {},
     "output_type": "execute_result"
    }
   ],
   "source": [
    "AH0.inword.fol[0]"
   ]
  }
 ],
 "metadata": {
  "kernelspec": {
   "display_name": "venv",
   "language": "python",
   "name": "python3"
  },
  "language_info": {
   "codemirror_mode": {
    "name": "ipython",
    "version": 3
   },
   "file_extension": ".py",
   "mimetype": "text/x-python",
   "name": "python",
   "nbconvert_exporter": "python",
   "pygments_lexer": "ipython3",
   "version": "3.10.7"
  },
  "orig_nbformat": 4
 },
 "nbformat": 4,
 "nbformat_minor": 2
}
