{
 "cells": [
  {
   "attachments": {},
   "cell_type": "markdown",
   "metadata": {},
   "source": [
    "# Sequence Interval Properties"
   ]
  },
  {
   "attachments": {},
   "cell_type": "markdown",
   "metadata": {},
   "source": [
    "Let's begin with [this textgrid](../../resources/the_dog.TextGrid)."
   ]
  },
  {
   "cell_type": "code",
   "execution_count": 1,
   "metadata": {},
   "outputs": [],
   "source": [
    "from aligned_textgrid import AlignedTextGrid\n",
    "from aligned_textgrid import Word, Phone\n",
    "\n",
    "the_dog = AlignedTextGrid(\n",
    "    textgrid_path=\"../resources/the_dog.TextGrid\", \n",
    "    entry_classes=[Word, Phone]\n",
    "    )\n",
    "AH0 = the_dog.tier_groups[0].tier_list[1].sequence_list[1]\n",
    "dog = the_dog.tier_groups[0].tier_list[0].sequence_list[1]"
   ]
  },
  {
   "cell_type": "markdown",
   "metadata": {},
   "source": [
    "## The behavior of `len()`, `in` and iteration\n",
    "\n",
    "### `len()`\n",
    "\n",
    "If you pass a Sequence Interval to `len()`, it'll return the length of its `.subset_list`.\n",
    "\n",
    "![Sequence in](../../resources/diagrams/sequence_len.svg)"
   ]
  },
  {
   "cell_type": "code",
   "execution_count": 2,
   "metadata": {},
   "outputs": [
    {
     "data": {
      "text/plain": [
       "3"
      ]
     },
     "execution_count": 2,
     "metadata": {},
     "output_type": "execute_result"
    }
   ],
   "source": [
    "len(dog)"
   ]
  },
  {
   "attachments": {},
   "cell_type": "markdown",
   "metadata": {},
   "source": [
    "If a Sequence Interval doesn't have a `.subset_list`, then `len()` will return `0`."
   ]
  },
  {
   "cell_type": "code",
   "execution_count": 3,
   "metadata": {},
   "outputs": [
    {
     "data": {
      "text/plain": [
       "0"
      ]
     },
     "execution_count": 3,
     "metadata": {},
     "output_type": "execute_result"
    }
   ],
   "source": [
    "len(AH0)"
   ]
  },
  {
   "attachments": {},
   "cell_type": "markdown",
   "metadata": {},
   "source": [
    "### `in`\n",
    "\n",
    "If you want to check whether a specific sequence interval (the actual *object*, not just the label) is in the `.subset_list` of another, you can use `in`.\n",
    "\n",
    "![Sequence in](../../resources/diagrams/sequence_in.svg)"
   ]
  },
  {
   "cell_type": "code",
   "execution_count": 4,
   "metadata": {},
   "outputs": [
    {
     "data": {
      "text/plain": [
       "True"
      ]
     },
     "execution_count": 4,
     "metadata": {},
     "output_type": "execute_result"
    }
   ],
   "source": [
    "AO1 = dog[1]\n",
    "AO1 in dog"
   ]
  },
  {
   "cell_type": "code",
   "execution_count": 5,
   "metadata": {},
   "outputs": [
    {
     "data": {
      "text/plain": [
       "False"
      ]
     },
     "execution_count": 5,
     "metadata": {},
     "output_type": "execute_result"
    }
   ],
   "source": [
    "AH0 in dog"
   ]
  },
  {
   "attachments": {},
   "cell_type": "markdown",
   "metadata": {},
   "source": [
    "### Iteration\n",
    "\n",
    "A Sequence Interval is iterable over its `.subset_list`\n",
    "\n",
    "![sequence iter](../../resources/diagrams/sequence_iteration.svg)"
   ]
  },
  {
   "cell_type": "code",
   "execution_count": 6,
   "metadata": {},
   "outputs": [
    {
     "name": "stdout",
     "output_type": "stream",
     "text": [
      "D is in dog\n",
      "AO1 is in dog\n",
      "G is in dog\n"
     ]
    }
   ],
   "source": [
    "for segment in dog:\n",
    "    print(f\"{segment.label} is in {segment.inword.label}\")"
   ]
  },
  {
   "attachments": {},
   "cell_type": "markdown",
   "metadata": {},
   "source": [
    "## Subset Sequence Information\n",
    "\n",
    "In addition to the `.start`, `.end` and `.label` information about each Sequence Interval, if it also has a `.subset_list`, that same information is accessible with `.sub_starts`, `.sub_ends` and `.sub_labels`."
   ]
  },
  {
   "cell_type": "code",
   "execution_count": 7,
   "metadata": {},
   "outputs": [
    {
     "data": {
      "text/plain": [
       "array([0.30829161, 0.41950136, 0.83568509])"
      ]
     },
     "execution_count": 7,
     "metadata": {},
     "output_type": "execute_result"
    }
   ],
   "source": [
    "dog.sub_starts"
   ]
  },
  {
   "cell_type": "code",
   "execution_count": 8,
   "metadata": {},
   "outputs": [
    {
     "data": {
      "text/plain": [
       "array([0.41950136, 0.83568509, 0.96658691])"
      ]
     },
     "execution_count": 8,
     "metadata": {},
     "output_type": "execute_result"
    }
   ],
   "source": [
    "dog.sub_ends"
   ]
  },
  {
   "cell_type": "code",
   "execution_count": 9,
   "metadata": {},
   "outputs": [
    {
     "data": {
      "text/plain": [
       "['D', 'AO1', 'G']"
      ]
     },
     "execution_count": 9,
     "metadata": {},
     "output_type": "execute_result"
    }
   ],
   "source": [
    "dog.sub_labels"
   ]
  },
  {
   "attachments": {},
   "cell_type": "markdown",
   "metadata": {},
   "source": [
    "This is a safe way to check if a general phone label is within a word, since just using `in` on the sequence interval itself checks against specific *Sequence Interval* objects."
   ]
  },
  {
   "cell_type": "code",
   "execution_count": 10,
   "metadata": {},
   "outputs": [
    {
     "data": {
      "text/plain": [
       "False"
      ]
     },
     "execution_count": 10,
     "metadata": {},
     "output_type": "execute_result"
    }
   ],
   "source": [
    "# the label \"G\" is not a Sequence Interval\n",
    "\"G\" in dog"
   ]
  },
  {
   "cell_type": "code",
   "execution_count": 11,
   "metadata": {},
   "outputs": [
    {
     "data": {
      "text/plain": [
       "True"
      ]
     },
     "execution_count": 11,
     "metadata": {},
     "output_type": "execute_result"
    }
   ],
   "source": [
    "\"G\" in dog.sub_labels"
   ]
  },
  {
   "attachments": {},
   "cell_type": "markdown",
   "metadata": {},
   "source": [
    "## Hierarchy Strictness\n",
    "\n",
    "The hierarchy and precedence structure is very \"strict\".\n",
    "\n",
    "- A Sequence Interval `a` can have no more than one `.super_instance`\n",
    "- If `a.super_instance` is `B`, then `a` is in `B.subset_list`.\n",
    "- If `a` is in `B.subset_list`, then it is in *no other* `.subset_list`.\n",
    "- If `a` is in `B.subset_list`, then `a.super_instance` is `B`\n",
    "- If `a` is *not* in `B.subset_list`, then `a.super_instance` is *not* `B`\n",
    "- If `a.super_instance` is *not* `B`, then it is *not* in `B.subset_list`\n",
    "\n",
    "Some examples of relationships that cannot be represented are:\n",
    "\n",
    "![illicit_1](../../resources/diagrams/illicit_1.svg)\n",
    "\n",
    "![illicit_2](../../resources/diagrams/illicit_2.svg)\n",
    "\n",
    "![illicit_3](../../resources/diagrams/illicit_3.svg)"
   ]
  },
  {
   "attachments": {},
   "cell_type": "markdown",
   "metadata": {},
   "source": [
    "## Class Strictness\n",
    "\n",
    "Another source of strictness is the Sequence Interval class. You can get the class of a specific interval with `type()`"
   ]
  },
  {
   "cell_type": "code",
   "execution_count": 12,
   "metadata": {},
   "outputs": [
    {
     "data": {
      "text/plain": [
       "aligned_textgrid.sequences.word_and_phone.Phone"
      ]
     },
     "execution_count": 12,
     "metadata": {},
     "output_type": "execute_result"
    }
   ],
   "source": [
    "type(AH0)"
   ]
  },
  {
   "cell_type": "code",
   "execution_count": 13,
   "metadata": {},
   "outputs": [
    {
     "data": {
      "text/plain": [
       "aligned_textgrid.sequences.word_and_phone.Word"
      ]
     },
     "execution_count": 13,
     "metadata": {},
     "output_type": "execute_result"
    }
   ],
   "source": [
    "type(dog)"
   ]
  },
  {
   "attachments": {},
   "cell_type": "markdown",
   "metadata": {},
   "source": [
    "A horizontal strictness of classes is that the `.fol` and `.prev` Segment Intervals must be of the same class."
   ]
  },
  {
   "cell_type": "code",
   "execution_count": 14,
   "metadata": {},
   "outputs": [
    {
     "name": "stdout",
     "output_type": "stream",
     "text": [
      "Following segment must be an instance of Word\n"
     ]
    }
   ],
   "source": [
    "try:\n",
    "    dog.set_fol(AH0)\n",
    "except Exception as exc:\n",
    "    print(exc)"
   ]
  },
  {
   "cell_type": "markdown",
   "metadata": {},
   "source": [
    "Each class also defines what its (one and only) `.superset_class` and `.subset_class` is. For classes at the top of the hierarchy, there is a reserved `Top` class, and for classes at the bottom of the hierarchy, there is a reserved `Bottom` class."
   ]
  },
  {
   "cell_type": "code",
   "execution_count": 15,
   "metadata": {},
   "outputs": [
    {
     "data": {
      "text/plain": [
       "aligned_textgrid.sequences.word_and_phone.Phone"
      ]
     },
     "execution_count": 15,
     "metadata": {},
     "output_type": "execute_result"
    }
   ],
   "source": [
    "Word.subset_class"
   ]
  },
  {
   "cell_type": "code",
   "execution_count": 16,
   "metadata": {},
   "outputs": [
    {
     "data": {
      "text/plain": [
       "aligned_textgrid.sequences.word_and_phone.Top_wp"
      ]
     },
     "execution_count": 16,
     "metadata": {},
     "output_type": "execute_result"
    }
   ],
   "source": [
    "Word.superset_class"
   ]
  },
  {
   "attachments": {},
   "cell_type": "markdown",
   "metadata": {},
   "source": [
    "If a Sequence Interval isn't the right class, it can't be added to another's `.subset_class` or set as its `.super_instance`."
   ]
  },
  {
   "cell_type": "code",
   "execution_count": 17,
   "metadata": {},
   "outputs": [
    {
     "name": "stdout",
     "output_type": "stream",
     "text": [
      "The subset_class was defined as Bottom_wp, but provided subset_instance was Phone\n"
     ]
    }
   ],
   "source": [
    "try:\n",
    "    AH0.append_subset_list(AO1)\n",
    "except Exception as exc:\n",
    "    print(exc)"
   ]
  },
  {
   "cell_type": "code",
   "execution_count": 18,
   "metadata": {},
   "outputs": [
    {
     "name": "stdout",
     "output_type": "stream",
     "text": [
      "The superset_class was defined as Word, but provided super_instance was Phone\n"
     ]
    }
   ],
   "source": [
    "try:\n",
    "    AH0.set_super_instance(AO1)\n",
    "except Exception as exc:\n",
    "    print(exc)"
   ]
  }
 ],
 "metadata": {
  "kernelspec": {
   "display_name": "venv",
   "language": "python",
   "name": "python3"
  },
  "language_info": {
   "codemirror_mode": {
    "name": "ipython",
    "version": 3
   },
   "file_extension": ".py",
   "mimetype": "text/x-python",
   "name": "python",
   "nbconvert_exporter": "python",
   "pygments_lexer": "ipython3",
   "version": "3.10.7"
  },
  "orig_nbformat": 4
 },
 "nbformat": 4,
 "nbformat_minor": 2
}
