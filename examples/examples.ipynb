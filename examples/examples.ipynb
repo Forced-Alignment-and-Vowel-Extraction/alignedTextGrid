{
 "cells": [
  {
   "attachments": {},
   "cell_type": "markdown",
   "metadata": {},
   "source": [
    "# Aligned Text Grids\n",
    "\n",
    "These are classes for encoding TextGrid relationships"
   ]
  },
  {
   "cell_type": "code",
   "execution_count": 2,
   "metadata": {},
   "outputs": [],
   "source": [
    "from praatio import textgrid\n",
    "from alignedTextGrid.sequences.wordAndPhone import Word, Phone\n",
    "from alignedTextGrid.sequences.tiers import SequenceTier, RelatedTiers"
   ]
  },
  {
   "cell_type": "code",
   "execution_count": 3,
   "metadata": {},
   "outputs": [],
   "source": [
    "tg_one = textgrid.openTextgrid(\n",
    "    fnFullPath=\"josef-fruehwald_speaker.TextGrid\",\n",
    "    includeEmptyIntervals=True\n",
    ")"
   ]
  },
  {
   "cell_type": "code",
   "execution_count": 4,
   "metadata": {},
   "outputs": [],
   "source": [
    "tg_words = tg_one.getTier(\"words\")\n",
    "tg_phones = tg_one.getTier(\"phones\")"
   ]
  },
  {
   "attachments": {},
   "cell_type": "markdown",
   "metadata": {},
   "source": [
    "Creating related tiers"
   ]
  },
  {
   "cell_type": "code",
   "execution_count": 5,
   "metadata": {},
   "outputs": [],
   "source": [
    "word_tier = SequenceTier(tg_words.entries, entry_class=Word(), subset_class=Phone())\n",
    "phone_tier = SequenceTier(tg_phones.entries, entry_class=Phone(), superset_class=Word())\n",
    "merged_tiers = RelatedTiers([word_tier, phone_tier])"
   ]
  },
  {
   "attachments": {},
   "cell_type": "markdown",
   "metadata": {},
   "source": [
    "Indexing `merged_tiers` returns tiers in order."
   ]
  },
  {
   "cell_type": "code",
   "execution_count": 6,
   "metadata": {},
   "outputs": [
    {
     "data": {
      "text/plain": [
       "Sequence tier of Word; .superset_class: Top; .subset_class: Phone"
      ]
     },
     "execution_count": 6,
     "metadata": {},
     "output_type": "execute_result"
    }
   ],
   "source": [
    "merged_tiers[0]"
   ]
  },
  {
   "attachments": {},
   "cell_type": "markdown",
   "metadata": {},
   "source": [
    "Indexing each tier gets each item."
   ]
  },
  {
   "cell_type": "code",
   "execution_count": 7,
   "metadata": {},
   "outputs": [
    {
     "data": {
      "text/plain": [
       "Class Word, label: beautiful, .superset_class: Top, .super_instance, None, .subset_class: Phone, .subset_list: ['B', 'Y', 'UW1', 'T', 'AH0', 'F', 'AH0', 'L']"
      ]
     },
     "execution_count": 7,
     "metadata": {},
     "output_type": "execute_result"
    }
   ],
   "source": [
    "merged_tiers[0][30]"
   ]
  },
  {
   "attachments": {},
   "cell_type": "markdown",
   "metadata": {},
   "source": [
    "Accessing the `.subset_list` for the word Tier returns a list of its phones."
   ]
  },
  {
   "cell_type": "code",
   "execution_count": 8,
   "metadata": {},
   "outputs": [
    {
     "data": {
      "text/plain": [
       "[Class Phone, label: B, .superset_class: Word, .super_instance: beautiful, .subset_class: Bottom,\n",
       " Class Phone, label: Y, .superset_class: Word, .super_instance: beautiful, .subset_class: Bottom,\n",
       " Class Phone, label: UW1, .superset_class: Word, .super_instance: beautiful, .subset_class: Bottom,\n",
       " Class Phone, label: T, .superset_class: Word, .super_instance: beautiful, .subset_class: Bottom,\n",
       " Class Phone, label: AH0, .superset_class: Word, .super_instance: beautiful, .subset_class: Bottom,\n",
       " Class Phone, label: F, .superset_class: Word, .super_instance: beautiful, .subset_class: Bottom,\n",
       " Class Phone, label: AH0, .superset_class: Word, .super_instance: beautiful, .subset_class: Bottom,\n",
       " Class Phone, label: L, .superset_class: Word, .super_instance: beautiful, .subset_class: Bottom]"
      ]
     },
     "execution_count": 8,
     "metadata": {},
     "output_type": "execute_result"
    }
   ],
   "source": [
    "merged_tiers[0][30].subset_list"
   ]
  },
  {
   "attachments": {},
   "cell_type": "markdown",
   "metadata": {},
   "source": [
    "We can get the third phone in the word"
   ]
  },
  {
   "cell_type": "code",
   "execution_count": 9,
   "metadata": {},
   "outputs": [
    {
     "name": "stdout",
     "output_type": "stream",
     "text": [
      "Class Phone, label: UW1, .superset_class: Word, .super_instance: beautiful, .subset_class: Bottom\n"
     ]
    }
   ],
   "source": [
    "UW = merged_tiers[0][30].subset_list[2]\n",
    "print(UW)"
   ]
  },
  {
   "attachments": {},
   "cell_type": "markdown",
   "metadata": {},
   "source": [
    "We can access back up to the word label information"
   ]
  },
  {
   "cell_type": "code",
   "execution_count": 10,
   "metadata": {},
   "outputs": [
    {
     "data": {
      "text/plain": [
       "Class Word, label: beautiful, .superset_class: Top, .super_instance, None, .subset_class: Phone, .subset_list: ['B', 'Y', 'UW1', 'T', 'AH0', 'F', 'AH0', 'L']"
      ]
     },
     "execution_count": 10,
     "metadata": {},
     "output_type": "execute_result"
    }
   ],
   "source": [
    "UW.inword"
   ]
  },
  {
   "attachments": {},
   "cell_type": "markdown",
   "metadata": {},
   "source": [
    "We can access the following and previous intervals from the current interval"
   ]
  },
  {
   "cell_type": "code",
   "execution_count": 11,
   "metadata": {},
   "outputs": [
    {
     "name": "stdout",
     "output_type": "stream",
     "text": [
      "Class Phone, label: T, .superset_class: Word, .super_instance: beautiful, .subset_class: Bottom\n",
      "Class Phone, label: Y, .superset_class: Word, .super_instance: beautiful, .subset_class: Bottom\n"
     ]
    }
   ],
   "source": [
    "print(UW.fol)\n",
    "print(UW.prev)"
   ]
  },
  {
   "attachments": {},
   "cell_type": "markdown",
   "metadata": {},
   "source": [
    "We can get the following and previous intervals of the word this phone appears in."
   ]
  },
  {
   "cell_type": "code",
   "execution_count": 12,
   "metadata": {},
   "outputs": [
    {
     "name": "stdout",
     "output_type": "stream",
     "text": [
      "Class Word, label: colors, .superset_class: Top, .super_instance, None, .subset_class: Phone, .subset_list: ['K', 'AH1', 'L', 'ER0', 'Z']\n",
      "Class Word, label: many, .superset_class: Top, .super_instance, None, .subset_class: Phone, .subset_list: ['M', 'EH1', 'N', 'IY0']\n"
     ]
    }
   ],
   "source": [
    "print(UW.inword.fol)\n",
    "print(UW.inword.prev)"
   ]
  },
  {
   "attachments": {},
   "cell_type": "markdown",
   "metadata": {},
   "source": [
    "We can edit phones or words and the information will inherit correctly."
   ]
  },
  {
   "cell_type": "code",
   "execution_count": 13,
   "metadata": {},
   "outputs": [
    {
     "name": "stdout",
     "output_type": "stream",
     "text": [
      "Class Word, label: when, .superset_class: Top, .super_instance, None, .subset_class: Phone, .subset_list: ['HH', 'W', 'IH1', 'N']\n",
      "Class Word, label: many, .superset_class: Top, .super_instance, None, .subset_class: Phone, .subset_list: ['M', 'IH1', 'N', 'IY0']\n",
      "Class Word, label: when, .superset_class: Top, .super_instance, None, .subset_class: Phone, .subset_list: ['HH', 'W', 'IH1', 'N']\n",
      "Class Word, label: many, .superset_class: Top, .super_instance, None, .subset_class: Phone, .subset_list: ['M', 'IH1', 'N', 'IY0']\n",
      "Class Word, label: when, .superset_class: Top, .super_instance, None, .subset_class: Phone, .subset_list: ['W', 'IH1', 'N']\n"
     ]
    }
   ],
   "source": [
    "for phone in merged_tiers[1]:\n",
    "    ## pin pen merge\n",
    "    if phone.label == \"EH1\" and phone.fol.label in [\"M\", \"N\", \"NG\"]:\n",
    "        phone.label = \"IH1\"\n",
    "\n",
    "for word in merged_tiers[0]:\n",
    "    if word.label in [\"when\", \"many\"]:\n",
    "        print(word)"
   ]
  },
  {
   "attachments": {},
   "cell_type": "markdown",
   "metadata": {},
   "source": [
    "We can do lexical searches and recode the phones."
   ]
  },
  {
   "cell_type": "code",
   "execution_count": 14,
   "metadata": {},
   "outputs": [
    {
     "name": "stdout",
     "output_type": "stream",
     "text": [
      "Class Word, label: beyond, .superset_class: Top, .super_instance, None, .subset_class: Phone, .subset_list: ['B', 'IY2', 'AO1', 'N', 'D']\n",
      "Class Word, label: beyond, .superset_class: Top, .super_instance, None, .subset_class: Phone, .subset_list: ['B', 'IY2', 'AA1', 'N', 'D']\n",
      "Class Word, label: beyond, .superset_class: Top, .super_instance, None, .subset_class: Phone, .subset_list: ['B', 'IY2', 'AO1', 'N', 'D']\n",
      "Class Word, label: beyond, .superset_class: Top, .super_instance, None, .subset_class: Phone, .subset_list: ['B', 'IY2', 'AA1', 'N', 'D']\n"
     ]
    }
   ],
   "source": [
    "for word in merged_tiers[0]:\n",
    "    if word.label == \"beyond\":\n",
    "        print(word)\n",
    "        for phone in word.subset_list:\n",
    "            if phone.label == \"AO1\":\n",
    "                phone.label = \"AA1\"\n",
    "        print(word)"
   ]
  },
  {
   "cell_type": "code",
   "execution_count": 16,
   "metadata": {},
   "outputs": [
    {
     "name": "stdout",
     "output_type": "stream",
     "text": [
      "Top(\n",
      "\n",
      "  Word(\n",
      "\n",
      "    Phone(\n",
      "\n",
      "      Bottom(\n",
      "\n"
     ]
    }
   ],
   "source": [
    "merged_tiers.show_structure()"
   ]
  },
  {
   "cell_type": "code",
   "execution_count": null,
   "metadata": {},
   "outputs": [],
   "source": []
  }
 ],
 "metadata": {
  "kernelspec": {
   "display_name": "venv",
   "language": "python",
   "name": "python3"
  },
  "language_info": {
   "codemirror_mode": {
    "name": "ipython",
    "version": 3
   },
   "file_extension": ".py",
   "mimetype": "text/x-python",
   "name": "python",
   "nbconvert_exporter": "python",
   "pygments_lexer": "ipython3",
   "version": "3.10.7"
  },
  "orig_nbformat": 4,
  "vscode": {
   "interpreter": {
    "hash": "491894abb4e972f21302f6ed14b502980638872f108efc513d82bf7896855a41"
   }
  }
 },
 "nbformat": 4,
 "nbformat_minor": 2
}
