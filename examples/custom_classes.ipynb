{
 "cells": [
  {
   "cell_type": "code",
   "execution_count": 1,
   "metadata": {},
   "outputs": [],
   "source": [
    "from praatio import textgrid\n",
    "from alignedTextGrid.sequences.sequences import SequenceInterval, Top, Bottom\n",
    "from alignedTextGrid.sequences.tiers import SequenceTier, RelatedTiers"
   ]
  },
  {
   "cell_type": "code",
   "execution_count": 2,
   "metadata": {},
   "outputs": [],
   "source": [
    "spritely = textgrid.openTextgrid(\n",
    "    fnFullPath=\"spritely.TextGrid\",\n",
    "    includeEmptyIntervals=True\n",
    ")"
   ]
  },
  {
   "cell_type": "code",
   "execution_count": 3,
   "metadata": {},
   "outputs": [
    {
     "data": {
      "text/plain": [
       "('PrWord', 'Foot', 'Syl', 'OnsetRime', 'SylPart', 'Phone')"
      ]
     },
     "execution_count": 3,
     "metadata": {},
     "output_type": "execute_result"
    }
   ],
   "source": [
    "prosodic_tnames = spritely.tierNames\n",
    "prosodic_tnames"
   ]
  },
  {
   "cell_type": "code",
   "execution_count": 4,
   "metadata": {},
   "outputs": [],
   "source": [
    "class PrWord(SequenceInterval):\n",
    "    def __init__(self, Interval):\n",
    "        super().__init__(Interval)\n",
    "        self.set_superset_class(Top)\n",
    "        self.set_subset_class(Foot)\n",
    "\n",
    "class Foot(SequenceInterval):\n",
    "    def __init__(self, Interval):\n",
    "        super().__init__(Interval)\n",
    "        self.set_superset_class(PrWord)\n",
    "        self.set_subset_class(Syl)\n",
    "\n",
    "class Syl(SequenceInterval):\n",
    "    def __init__(self, Interval):\n",
    "        super().__init__(Interval)\n",
    "        self.set_superset_class(Foot)\n",
    "        self.set_subset_class(OnsetRime)\n",
    "\n",
    "class OnsetRime(SequenceInterval):\n",
    "    def __init__(self, Interval):\n",
    "        super().__init__(Interval)\n",
    "        self.set_superset_class(Syl)\n",
    "        self.set_subset_class(SylPart)\n",
    "\n",
    "class SylPart(SequenceInterval):\n",
    "    def __init__(self, Interval):\n",
    "        super().__init__(Interval)\n",
    "        self.set_superset_class(OnsetRime)\n",
    "        self.set_subset_class(Phone)\n",
    "\n",
    "class Phone(SequenceInterval):\n",
    "    def __init__(self, Interval):\n",
    "        super().__init__(Interval)\n",
    "        self.set_superset_class(SylPart)\n",
    "        self.set_subset_class(Bottom)\n"
   ]
  },
  {
   "cell_type": "code",
   "execution_count": 5,
   "metadata": {},
   "outputs": [],
   "source": [
    "PrTier = SequenceTier(spritely.getTier(\"PrWord\"), entry_class=PrWord)\n",
    "FootTier = SequenceTier(spritely.getTier(\"Foot\"), entry_class=Foot)\n",
    "SylTier = SequenceTier(spritely.getTier(\"Syl\"), entry_class=Syl)\n",
    "OnsetRimeTier = SequenceTier(spritely.getTier(\"OnsetRime\"), entry_class=OnsetRime)\n",
    "SylPartTier = SequenceTier(spritely.getTier(\"SylPart\"), entry_class=SylPart)\n",
    "PhoneTier = SequenceTier(spritely.getTier(\"Phone\"), entry_class=Phone)"
   ]
  },
  {
   "cell_type": "code",
   "execution_count": 6,
   "metadata": {},
   "outputs": [],
   "source": [
    "stacked_tiers = RelatedTiers([PrTier, FootTier, SylTier, OnsetRimeTier, SylPartTier, PhoneTier])"
   ]
  },
  {
   "cell_type": "code",
   "execution_count": 7,
   "metadata": {},
   "outputs": [
    {
     "data": {
      "text/plain": [
       "__main__.Phone"
      ]
     },
     "execution_count": 7,
     "metadata": {},
     "output_type": "execute_result"
    }
   ],
   "source": [
    "stacked_tiers[5].entry_class"
   ]
  },
  {
   "cell_type": "code",
   "execution_count": 8,
   "metadata": {},
   "outputs": [
    {
     "name": "stdout",
     "output_type": "stream",
     "text": [
      "Class Phone, label: R, .superset_class: SylPart, .super_instance: O, .subset_class: Bottom\n",
      "R\n",
      "1.4605902223946439\n",
      "3\n",
      "#\n",
      "P\n",
      "O\n",
      "AY\n"
     ]
    }
   ],
   "source": [
    "print(stacked_tiers[5][3])\n",
    "print(stacked_tiers[5][3].label)\n",
    "print(stacked_tiers[5][3].start)\n",
    "print(stacked_tiers[5][3].tier_index)\n",
    "print(stacked_tiers[5][3].fol.label)\n",
    "print(stacked_tiers[5][3].prev.label)\n",
    "print(stacked_tiers[5][3].super_instance.label)\n",
    "print(stacked_tiers[5][3].super_instance.super_instance.fol.subset_list[0].subset_list[0].label)"
   ]
  },
  {
   "cell_type": "code",
   "execution_count": 9,
   "metadata": {},
   "outputs": [
    {
     "data": {
      "text/plain": [
       "Class Phone, label: AY, .superset_class: SylPart, .super_instance: N, .subset_class: Bottom"
      ]
     },
     "execution_count": 9,
     "metadata": {},
     "output_type": "execute_result"
    }
   ],
   "source": [
    "stacked_tiers[5][3].super_instance.super_instance.fol.subset_list[0].subset_list[0]"
   ]
  },
  {
   "cell_type": "code",
   "execution_count": 10,
   "metadata": {},
   "outputs": [
    {
     "data": {
      "text/plain": [
       "Class Phone, label: AY, .superset_class: SylPart, .super_instance: N, .subset_class: Bottom"
      ]
     },
     "execution_count": 10,
     "metadata": {},
     "output_type": "execute_result"
    }
   ],
   "source": [
    "stacked_tiers[5][3].super_instance.super_instance.fol.subset_list[0].subset_list[0]"
   ]
  },
  {
   "cell_type": "code",
   "execution_count": 11,
   "metadata": {},
   "outputs": [
    {
     "data": {
      "text/plain": [
       "Class Phone, label: T, .superset_class: SylPart, .super_instance: C, .subset_class: Bottom"
      ]
     },
     "execution_count": 11,
     "metadata": {},
     "output_type": "execute_result"
    }
   ],
   "source": [
    "stacked_tiers[5][4].super_instance.fol.subset_list[0]"
   ]
  },
  {
   "cell_type": "code",
   "execution_count": 12,
   "metadata": {},
   "outputs": [
    {
     "name": "stdout",
     "output_type": "stream",
     "text": [
      "\n",
      "S\n",
      "P\n",
      "R\n",
      "AY\n",
      "T\n",
      "L\n",
      "IY\n",
      "\n"
     ]
    }
   ],
   "source": [
    "for i in stacked_tiers[5]:\n",
    "    print(i.label)"
   ]
  },
  {
   "cell_type": "code",
   "execution_count": 13,
   "metadata": {},
   "outputs": [
    {
     "data": {
      "text/plain": [
       "'AY'"
      ]
     },
     "execution_count": 13,
     "metadata": {},
     "output_type": "execute_result"
    }
   ],
   "source": [
    "(stacked_tiers[5][3]   # onset phone\n",
    "    .super_instance    # (onset)\n",
    "    .super_instance    # Onset \n",
    "    .fol               # Rhyme\n",
    "    .subset_list[0]    # Nucleus\n",
    "    .subset_list[0]    # Nucleus phone\n",
    "    .label\n",
    ")"
   ]
  },
  {
   "cell_type": "code",
   "execution_count": 14,
   "metadata": {},
   "outputs": [
    {
     "data": {
      "text/plain": [
       "'T'"
      ]
     },
     "execution_count": 14,
     "metadata": {},
     "output_type": "execute_result"
    }
   ],
   "source": [
    "(stacked_tiers[5][4]   # Nucleus phone\n",
    "    .super_instance    # Nucleus\n",
    "    .fol               # Coda\n",
    "    .subset_list[0]    # Coda phone\n",
    "    .label\n",
    ")"
   ]
  }
 ],
 "metadata": {
  "kernelspec": {
   "display_name": "venv",
   "language": "python",
   "name": "python3"
  },
  "language_info": {
   "codemirror_mode": {
    "name": "ipython",
    "version": 3
   },
   "file_extension": ".py",
   "mimetype": "text/x-python",
   "name": "python",
   "nbconvert_exporter": "python",
   "pygments_lexer": "ipython3",
   "version": "3.10.7"
  },
  "orig_nbformat": 4,
  "vscode": {
   "interpreter": {
    "hash": "491894abb4e972f21302f6ed14b502980638872f108efc513d82bf7896855a41"
   }
  }
 },
 "nbformat": 4,
 "nbformat_minor": 2
}
