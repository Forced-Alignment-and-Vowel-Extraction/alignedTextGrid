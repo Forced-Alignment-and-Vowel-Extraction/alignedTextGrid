{
 "cells": [
  {
   "cell_type": "markdown",
   "metadata": {},
   "source": [
    "# Outputting and saving as a DataFrame\n",
    "You can ouput and save any given `aligned_textgrid` as a [`polars` dataframe](https://www.pola.rs/) with the `to_df()` function."
   ]
  },
  {
   "cell_type": "markdown",
   "metadata": {},
   "source": [
    "## Outputting as a data frame"
   ]
  },
  {
   "cell_type": "code",
   "execution_count": 1,
   "metadata": {},
   "outputs": [],
   "source": [
    "import polars as pl\n",
    "\n",
    "from aligned_textgrid import AlignedTextGrid, Word, Phone,\\\n",
    "                             to_df\n",
    "\n",
    "tg = AlignedTextGrid(\n",
    "    textgrid_path=\"../resources/josef-fruehwald_speaker.TextGrid\",\n",
    "    entry_classes=[Word, Phone]\n",
    ")"
   ]
  },
  {
   "cell_type": "markdown",
   "metadata": {},
   "source": [
    "### Single Intervals\n",
    "\n",
    "#### Bottom of the hierarchy\n",
    "If you pass a single interval from the bottom of the sequence hierarchy, you'll get back a fairly minimal dataframe with the start and end times, the label, and an ID for the interval."
   ]
  },
  {
   "cell_type": "code",
   "execution_count": 2,
   "metadata": {},
   "outputs": [
    {
     "data": {
      "text/html": [
       "<div><style>\n",
       ".dataframe > thead > tr,\n",
       ".dataframe > tbody > tr {\n",
       "  text-align: right;\n",
       "  white-space: pre-wrap;\n",
       "}\n",
       "</style>\n",
       "<small>shape: (1, 5)</small><table border=\"1\" class=\"dataframe\"><thead><tr><th>Phone_id</th><th>Phone_tier_index</th><th>Phone_label</th><th>Phone_start</th><th>Phone_end</th></tr><tr><td>str</td><td>i64</td><td>str</td><td>f64</td><td>f64</td></tr></thead><tbody><tr><td>&quot;0-0-1-0&quot;</td><td>1</td><td>&quot;HH&quot;</td><td>0.11</td><td>1.97</td></tr></tbody></table></div>"
      ],
      "text/plain": [
       "shape: (1, 5)\n",
       "┌──────────┬──────────────────┬─────────────┬─────────────┬───────────┐\n",
       "│ Phone_id ┆ Phone_tier_index ┆ Phone_label ┆ Phone_start ┆ Phone_end │\n",
       "│ ---      ┆ ---              ┆ ---         ┆ ---         ┆ ---       │\n",
       "│ str      ┆ i64              ┆ str         ┆ f64         ┆ f64       │\n",
       "╞══════════╪══════════════════╪═════════════╪═════════════╪═══════════╡\n",
       "│ 0-0-1-0  ┆ 1                ┆ HH          ┆ 0.11        ┆ 1.97      │\n",
       "└──────────┴──────────────────┴─────────────┴─────────────┴───────────┘"
      ]
     },
     "execution_count": 2,
     "metadata": {},
     "output_type": "execute_result"
    }
   ],
   "source": [
    "one_interval = tg[0].Phone[1]\n",
    "one_interval_df = to_df(one_interval)\n",
    "\n",
    "one_interval_df"
   ]
  },
  {
   "cell_type": "markdown",
   "metadata": {},
   "source": [
    "#### Top of the hierarchy\n",
    "If you pass `to_df()` an interval from higher up in the hierarchy, by default it will output its data, as well as the data for every interval below it in the hierarchy, concatenated horizontally."
   ]
  },
  {
   "cell_type": "code",
   "execution_count": 3,
   "metadata": {},
   "outputs": [
    {
     "data": {
      "text/html": [
       "<div><style>\n",
       ".dataframe > thead > tr,\n",
       ".dataframe > tbody > tr {\n",
       "  text-align: right;\n",
       "  white-space: pre-wrap;\n",
       "}\n",
       "</style>\n",
       "<small>shape: (4, 10)</small><table border=\"1\" class=\"dataframe\"><thead><tr><th>Word_id</th><th>Word_tier_index</th><th>Word_label</th><th>Word_start</th><th>Word_end</th><th>Phone_id</th><th>Phone_tier_index</th><th>Phone_label</th><th>Phone_start</th><th>Phone_end</th></tr><tr><td>str</td><td>i64</td><td>str</td><td>f64</td><td>f64</td><td>str</td><td>i64</td><td>str</td><td>f64</td><td>f64</td></tr></thead><tbody><tr><td>&quot;0-0-1&quot;</td><td>1</td><td>&quot;when&quot;</td><td>0.11</td><td>2.2</td><td>&quot;0-0-1-0&quot;</td><td>1</td><td>&quot;HH&quot;</td><td>0.11</td><td>1.97</td></tr><tr><td>&quot;0-0-1&quot;</td><td>1</td><td>&quot;when&quot;</td><td>0.11</td><td>2.2</td><td>&quot;0-0-1-1&quot;</td><td>2</td><td>&quot;W&quot;</td><td>1.97</td><td>2.09</td></tr><tr><td>&quot;0-0-1&quot;</td><td>1</td><td>&quot;when&quot;</td><td>0.11</td><td>2.2</td><td>&quot;0-0-1-2&quot;</td><td>3</td><td>&quot;EH1&quot;</td><td>2.09</td><td>2.13</td></tr><tr><td>&quot;0-0-1&quot;</td><td>1</td><td>&quot;when&quot;</td><td>0.11</td><td>2.2</td><td>&quot;0-0-1-3&quot;</td><td>4</td><td>&quot;N&quot;</td><td>2.13</td><td>2.2</td></tr></tbody></table></div>"
      ],
      "text/plain": [
       "shape: (4, 10)\n",
       "┌─────────┬────────────┬───────────┬───────────┬───┬───────────┬───────────┬───────────┬───────────┐\n",
       "│ Word_id ┆ Word_tier_ ┆ Word_labe ┆ Word_star ┆ … ┆ Phone_tie ┆ Phone_lab ┆ Phone_sta ┆ Phone_end │\n",
       "│ ---     ┆ index      ┆ l         ┆ t         ┆   ┆ r_index   ┆ el        ┆ rt        ┆ ---       │\n",
       "│ str     ┆ ---        ┆ ---       ┆ ---       ┆   ┆ ---       ┆ ---       ┆ ---       ┆ f64       │\n",
       "│         ┆ i64        ┆ str       ┆ f64       ┆   ┆ i64       ┆ str       ┆ f64       ┆           │\n",
       "╞═════════╪════════════╪═══════════╪═══════════╪═══╪═══════════╪═══════════╪═══════════╪═══════════╡\n",
       "│ 0-0-1   ┆ 1          ┆ when      ┆ 0.11      ┆ … ┆ 1         ┆ HH        ┆ 0.11      ┆ 1.97      │\n",
       "│ 0-0-1   ┆ 1          ┆ when      ┆ 0.11      ┆ … ┆ 2         ┆ W         ┆ 1.97      ┆ 2.09      │\n",
       "│ 0-0-1   ┆ 1          ┆ when      ┆ 0.11      ┆ … ┆ 3         ┆ EH1       ┆ 2.09      ┆ 2.13      │\n",
       "│ 0-0-1   ┆ 1          ┆ when      ┆ 0.11      ┆ … ┆ 4         ┆ N         ┆ 2.13      ┆ 2.2       │\n",
       "└─────────┴────────────┴───────────┴───────────┴───┴───────────┴───────────┴───────────┴───────────┘"
      ]
     },
     "execution_count": 3,
     "metadata": {},
     "output_type": "execute_result"
    }
   ],
   "source": [
    "word_interval = tg[0].Word[1]\n",
    "word_interval_df = to_df(word_interval)\n",
    "\n",
    "word_interval_df"
   ]
  },
  {
   "cell_type": "markdown",
   "metadata": {},
   "source": [
    "However, if you want just a simplified, single row output for an interval, regardless of its location within the hierarchy, pass `to_df(..., with_subset = False)`."
   ]
  },
  {
   "cell_type": "code",
   "execution_count": 4,
   "metadata": {},
   "outputs": [
    {
     "data": {
      "text/html": [
       "<div><style>\n",
       ".dataframe > thead > tr,\n",
       ".dataframe > tbody > tr {\n",
       "  text-align: right;\n",
       "  white-space: pre-wrap;\n",
       "}\n",
       "</style>\n",
       "<small>shape: (1, 6)</small><table border=\"1\" class=\"dataframe\"><thead><tr><th>id</th><th>tier_index</th><th>label</th><th>start</th><th>end</th><th>entry_class</th></tr><tr><td>str</td><td>i64</td><td>str</td><td>f64</td><td>f64</td><td>str</td></tr></thead><tbody><tr><td>&quot;0-0-1&quot;</td><td>1</td><td>&quot;when&quot;</td><td>0.11</td><td>2.2</td><td>&quot;Word&quot;</td></tr></tbody></table></div>"
      ],
      "text/plain": [
       "shape: (1, 6)\n",
       "┌───────┬────────────┬───────┬───────┬─────┬─────────────┐\n",
       "│ id    ┆ tier_index ┆ label ┆ start ┆ end ┆ entry_class │\n",
       "│ ---   ┆ ---        ┆ ---   ┆ ---   ┆ --- ┆ ---         │\n",
       "│ str   ┆ i64        ┆ str   ┆ f64   ┆ f64 ┆ str         │\n",
       "╞═══════╪════════════╪═══════╪═══════╪═════╪═════════════╡\n",
       "│ 0-0-1 ┆ 1          ┆ when  ┆ 0.11  ┆ 2.2 ┆ Word        │\n",
       "└───────┴────────────┴───────┴───────┴─────┴─────────────┘"
      ]
     },
     "execution_count": 4,
     "metadata": {},
     "output_type": "execute_result"
    }
   ],
   "source": [
    "word_interval_df2 = to_df(word_interval, with_subset=False)\n",
    "\n",
    "word_interval_df2"
   ]
  },
  {
   "cell_type": "markdown",
   "metadata": {},
   "source": [
    "### Tiers\n",
    "\n",
    "If you pass a tier to `to_df()`, it will output a dataframe for ever interval in the tier concatenated vertically. By default, this means intervals high in the hierarchy will have their rows repeated for every interval they contain, but if you want one row per interval in the output, you can pass `to_df(..., with_subset = False)`."
   ]
  },
  {
   "cell_type": "code",
   "execution_count": 5,
   "metadata": {},
   "outputs": [
    {
     "data": {
      "text/plain": [
       "(1191, 10)"
      ]
     },
     "execution_count": 5,
     "metadata": {},
     "output_type": "execute_result"
    }
   ],
   "source": [
    "tier_df1 = to_df(tg[0].Word)\n",
    "\n",
    "tier_df1.shape"
   ]
  },
  {
   "cell_type": "code",
   "execution_count": 6,
   "metadata": {},
   "outputs": [
    {
     "data": {
      "text/html": [
       "<div><style>\n",
       ".dataframe > thead > tr,\n",
       ".dataframe > tbody > tr {\n",
       "  text-align: right;\n",
       "  white-space: pre-wrap;\n",
       "}\n",
       "</style>\n",
       "<small>shape: (10, 10)</small><table border=\"1\" class=\"dataframe\"><thead><tr><th>Word_id</th><th>Word_tier_index</th><th>Word_label</th><th>Word_start</th><th>Word_end</th><th>Phone_id</th><th>Phone_tier_index</th><th>Phone_label</th><th>Phone_start</th><th>Phone_end</th></tr><tr><td>str</td><td>i64</td><td>str</td><td>f64</td><td>f64</td><td>str</td><td>i64</td><td>str</td><td>f64</td><td>f64</td></tr></thead><tbody><tr><td>&quot;0-0-0&quot;</td><td>0</td><td>&quot;&quot;</td><td>0.0</td><td>0.11</td><td>&quot;0-0-0-0&quot;</td><td>0</td><td>&quot;&quot;</td><td>0.0</td><td>0.11</td></tr><tr><td>&quot;0-0-1&quot;</td><td>1</td><td>&quot;when&quot;</td><td>0.11</td><td>2.2</td><td>&quot;0-0-1-0&quot;</td><td>1</td><td>&quot;HH&quot;</td><td>0.11</td><td>1.97</td></tr><tr><td>&quot;0-0-1&quot;</td><td>1</td><td>&quot;when&quot;</td><td>0.11</td><td>2.2</td><td>&quot;0-0-1-1&quot;</td><td>2</td><td>&quot;W&quot;</td><td>1.97</td><td>2.09</td></tr><tr><td>&quot;0-0-1&quot;</td><td>1</td><td>&quot;when&quot;</td><td>0.11</td><td>2.2</td><td>&quot;0-0-1-2&quot;</td><td>3</td><td>&quot;EH1&quot;</td><td>2.09</td><td>2.13</td></tr><tr><td>&quot;0-0-1&quot;</td><td>1</td><td>&quot;when&quot;</td><td>0.11</td><td>2.2</td><td>&quot;0-0-1-3&quot;</td><td>4</td><td>&quot;N&quot;</td><td>2.13</td><td>2.2</td></tr><tr><td>&quot;0-0-2&quot;</td><td>2</td><td>&quot;the&quot;</td><td>2.2</td><td>2.26</td><td>&quot;0-0-2-0&quot;</td><td>5</td><td>&quot;DH&quot;</td><td>2.2</td><td>2.22</td></tr><tr><td>&quot;0-0-2&quot;</td><td>2</td><td>&quot;the&quot;</td><td>2.2</td><td>2.26</td><td>&quot;0-0-2-1&quot;</td><td>6</td><td>&quot;AH0&quot;</td><td>2.22</td><td>2.26</td></tr><tr><td>&quot;0-0-3&quot;</td><td>3</td><td>&quot;sunlight&quot;</td><td>2.26</td><td>2.72</td><td>&quot;0-0-3-0&quot;</td><td>7</td><td>&quot;S&quot;</td><td>2.26</td><td>2.39</td></tr><tr><td>&quot;0-0-3&quot;</td><td>3</td><td>&quot;sunlight&quot;</td><td>2.26</td><td>2.72</td><td>&quot;0-0-3-1&quot;</td><td>8</td><td>&quot;AH1&quot;</td><td>2.39</td><td>2.44</td></tr><tr><td>&quot;0-0-3&quot;</td><td>3</td><td>&quot;sunlight&quot;</td><td>2.26</td><td>2.72</td><td>&quot;0-0-3-2&quot;</td><td>9</td><td>&quot;N&quot;</td><td>2.44</td><td>2.52</td></tr></tbody></table></div>"
      ],
      "text/plain": [
       "shape: (10, 10)\n",
       "┌─────────┬────────────┬───────────┬───────────┬───┬───────────┬───────────┬───────────┬───────────┐\n",
       "│ Word_id ┆ Word_tier_ ┆ Word_labe ┆ Word_star ┆ … ┆ Phone_tie ┆ Phone_lab ┆ Phone_sta ┆ Phone_end │\n",
       "│ ---     ┆ index      ┆ l         ┆ t         ┆   ┆ r_index   ┆ el        ┆ rt        ┆ ---       │\n",
       "│ str     ┆ ---        ┆ ---       ┆ ---       ┆   ┆ ---       ┆ ---       ┆ ---       ┆ f64       │\n",
       "│         ┆ i64        ┆ str       ┆ f64       ┆   ┆ i64       ┆ str       ┆ f64       ┆           │\n",
       "╞═════════╪════════════╪═══════════╪═══════════╪═══╪═══════════╪═══════════╪═══════════╪═══════════╡\n",
       "│ 0-0-0   ┆ 0          ┆           ┆ 0.0       ┆ … ┆ 0         ┆           ┆ 0.0       ┆ 0.11      │\n",
       "│ 0-0-1   ┆ 1          ┆ when      ┆ 0.11      ┆ … ┆ 1         ┆ HH        ┆ 0.11      ┆ 1.97      │\n",
       "│ 0-0-1   ┆ 1          ┆ when      ┆ 0.11      ┆ … ┆ 2         ┆ W         ┆ 1.97      ┆ 2.09      │\n",
       "│ 0-0-1   ┆ 1          ┆ when      ┆ 0.11      ┆ … ┆ 3         ┆ EH1       ┆ 2.09      ┆ 2.13      │\n",
       "│ …       ┆ …          ┆ …         ┆ …         ┆ … ┆ …         ┆ …         ┆ …         ┆ …         │\n",
       "│ 0-0-2   ┆ 2          ┆ the       ┆ 2.2       ┆ … ┆ 6         ┆ AH0       ┆ 2.22      ┆ 2.26      │\n",
       "│ 0-0-3   ┆ 3          ┆ sunlight  ┆ 2.26      ┆ … ┆ 7         ┆ S         ┆ 2.26      ┆ 2.39      │\n",
       "│ 0-0-3   ┆ 3          ┆ sunlight  ┆ 2.26      ┆ … ┆ 8         ┆ AH1       ┆ 2.39      ┆ 2.44      │\n",
       "│ 0-0-3   ┆ 3          ┆ sunlight  ┆ 2.26      ┆ … ┆ 9         ┆ N         ┆ 2.44      ┆ 2.52      │\n",
       "└─────────┴────────────┴───────────┴───────────┴───┴───────────┴───────────┴───────────┴───────────┘"
      ]
     },
     "execution_count": 6,
     "metadata": {},
     "output_type": "execute_result"
    }
   ],
   "source": [
    "tier_df1.head(10)"
   ]
  },
  {
   "cell_type": "code",
   "execution_count": 7,
   "metadata": {},
   "outputs": [
    {
     "data": {
      "text/plain": [
       "(377, 6)"
      ]
     },
     "execution_count": 7,
     "metadata": {},
     "output_type": "execute_result"
    }
   ],
   "source": [
    "# 1 row per interval\n",
    "tier_df2 = to_df(tg[0].Word, with_subset=False)\n",
    "\n",
    "tier_df2.shape"
   ]
  },
  {
   "cell_type": "code",
   "execution_count": 8,
   "metadata": {},
   "outputs": [
    {
     "data": {
      "text/html": [
       "<div><style>\n",
       ".dataframe > thead > tr,\n",
       ".dataframe > tbody > tr {\n",
       "  text-align: right;\n",
       "  white-space: pre-wrap;\n",
       "}\n",
       "</style>\n",
       "<small>shape: (10, 6)</small><table border=\"1\" class=\"dataframe\"><thead><tr><th>id</th><th>tier_index</th><th>label</th><th>start</th><th>end</th><th>entry_class</th></tr><tr><td>str</td><td>i64</td><td>str</td><td>f64</td><td>f64</td><td>str</td></tr></thead><tbody><tr><td>&quot;0-0-0&quot;</td><td>0</td><td>&quot;&quot;</td><td>0.0</td><td>0.11</td><td>&quot;Word&quot;</td></tr><tr><td>&quot;0-0-1&quot;</td><td>1</td><td>&quot;when&quot;</td><td>0.11</td><td>2.2</td><td>&quot;Word&quot;</td></tr><tr><td>&quot;0-0-2&quot;</td><td>2</td><td>&quot;the&quot;</td><td>2.2</td><td>2.26</td><td>&quot;Word&quot;</td></tr><tr><td>&quot;0-0-3&quot;</td><td>3</td><td>&quot;sunlight&quot;</td><td>2.26</td><td>2.72</td><td>&quot;Word&quot;</td></tr><tr><td>&quot;0-0-4&quot;</td><td>4</td><td>&quot;strikes&quot;</td><td>2.72</td><td>3.22</td><td>&quot;Word&quot;</td></tr><tr><td>&quot;0-0-5&quot;</td><td>5</td><td>&quot;raindrops&quot;</td><td>3.22</td><td>3.79</td><td>&quot;Word&quot;</td></tr><tr><td>&quot;0-0-6&quot;</td><td>6</td><td>&quot;in&quot;</td><td>3.79</td><td>3.89</td><td>&quot;Word&quot;</td></tr><tr><td>&quot;0-0-7&quot;</td><td>7</td><td>&quot;the&quot;</td><td>3.89</td><td>4.02</td><td>&quot;Word&quot;</td></tr><tr><td>&quot;0-0-8&quot;</td><td>8</td><td>&quot;air&quot;</td><td>4.02</td><td>4.45</td><td>&quot;Word&quot;</td></tr><tr><td>&quot;0-0-9&quot;</td><td>9</td><td>&quot;&quot;</td><td>4.45</td><td>4.61</td><td>&quot;Word&quot;</td></tr></tbody></table></div>"
      ],
      "text/plain": [
       "shape: (10, 6)\n",
       "┌───────┬────────────┬──────────┬───────┬──────┬─────────────┐\n",
       "│ id    ┆ tier_index ┆ label    ┆ start ┆ end  ┆ entry_class │\n",
       "│ ---   ┆ ---        ┆ ---      ┆ ---   ┆ ---  ┆ ---         │\n",
       "│ str   ┆ i64        ┆ str      ┆ f64   ┆ f64  ┆ str         │\n",
       "╞═══════╪════════════╪══════════╪═══════╪══════╪═════════════╡\n",
       "│ 0-0-0 ┆ 0          ┆          ┆ 0.0   ┆ 0.11 ┆ Word        │\n",
       "│ 0-0-1 ┆ 1          ┆ when     ┆ 0.11  ┆ 2.2  ┆ Word        │\n",
       "│ 0-0-2 ┆ 2          ┆ the      ┆ 2.2   ┆ 2.26 ┆ Word        │\n",
       "│ 0-0-3 ┆ 3          ┆ sunlight ┆ 2.26  ┆ 2.72 ┆ Word        │\n",
       "│ …     ┆ …          ┆ …        ┆ …     ┆ …    ┆ …           │\n",
       "│ 0-0-6 ┆ 6          ┆ in       ┆ 3.79  ┆ 3.89 ┆ Word        │\n",
       "│ 0-0-7 ┆ 7          ┆ the      ┆ 3.89  ┆ 4.02 ┆ Word        │\n",
       "│ 0-0-8 ┆ 8          ┆ air      ┆ 4.02  ┆ 4.45 ┆ Word        │\n",
       "│ 0-0-9 ┆ 9          ┆          ┆ 4.45  ┆ 4.61 ┆ Word        │\n",
       "└───────┴────────────┴──────────┴───────┴──────┴─────────────┘"
      ]
     },
     "execution_count": 8,
     "metadata": {},
     "output_type": "execute_result"
    }
   ],
   "source": [
    "tier_df2.head(10)"
   ]
  },
  {
   "cell_type": "markdown",
   "metadata": {},
   "source": [
    "### TierGroups and TextGrids\n",
    "\n",
    "The behavior for TierGroups and TextGrids are similar. By default, the `to_df()` function will either return a dataframe representing the entire hierarchy structure, or will return one row for each interval in the TextGrid."
   ]
  },
  {
   "cell_type": "code",
   "execution_count": 9,
   "metadata": {},
   "outputs": [
    {
     "data": {
      "text/plain": [
       "(1191, 10)"
      ]
     },
     "execution_count": 9,
     "metadata": {},
     "output_type": "execute_result"
    }
   ],
   "source": [
    "full_df1 = to_df(tg)\n",
    "\n",
    "full_df1.shape"
   ]
  },
  {
   "cell_type": "code",
   "execution_count": 10,
   "metadata": {},
   "outputs": [
    {
     "data": {
      "text/html": [
       "<div><style>\n",
       ".dataframe > thead > tr,\n",
       ".dataframe > tbody > tr {\n",
       "  text-align: right;\n",
       "  white-space: pre-wrap;\n",
       "}\n",
       "</style>\n",
       "<small>shape: (10, 10)</small><table border=\"1\" class=\"dataframe\"><thead><tr><th>Word_id</th><th>Word_tier_index</th><th>Word_label</th><th>Word_start</th><th>Word_end</th><th>Phone_id</th><th>Phone_tier_index</th><th>Phone_label</th><th>Phone_start</th><th>Phone_end</th></tr><tr><td>str</td><td>i64</td><td>str</td><td>f64</td><td>f64</td><td>str</td><td>i64</td><td>str</td><td>f64</td><td>f64</td></tr></thead><tbody><tr><td>&quot;0-0-0&quot;</td><td>0</td><td>&quot;&quot;</td><td>0.0</td><td>0.11</td><td>&quot;0-0-0-0&quot;</td><td>0</td><td>&quot;&quot;</td><td>0.0</td><td>0.11</td></tr><tr><td>&quot;0-0-1&quot;</td><td>1</td><td>&quot;when&quot;</td><td>0.11</td><td>2.2</td><td>&quot;0-0-1-0&quot;</td><td>1</td><td>&quot;HH&quot;</td><td>0.11</td><td>1.97</td></tr><tr><td>&quot;0-0-1&quot;</td><td>1</td><td>&quot;when&quot;</td><td>0.11</td><td>2.2</td><td>&quot;0-0-1-1&quot;</td><td>2</td><td>&quot;W&quot;</td><td>1.97</td><td>2.09</td></tr><tr><td>&quot;0-0-1&quot;</td><td>1</td><td>&quot;when&quot;</td><td>0.11</td><td>2.2</td><td>&quot;0-0-1-2&quot;</td><td>3</td><td>&quot;EH1&quot;</td><td>2.09</td><td>2.13</td></tr><tr><td>&quot;0-0-1&quot;</td><td>1</td><td>&quot;when&quot;</td><td>0.11</td><td>2.2</td><td>&quot;0-0-1-3&quot;</td><td>4</td><td>&quot;N&quot;</td><td>2.13</td><td>2.2</td></tr><tr><td>&quot;0-0-2&quot;</td><td>2</td><td>&quot;the&quot;</td><td>2.2</td><td>2.26</td><td>&quot;0-0-2-0&quot;</td><td>5</td><td>&quot;DH&quot;</td><td>2.2</td><td>2.22</td></tr><tr><td>&quot;0-0-2&quot;</td><td>2</td><td>&quot;the&quot;</td><td>2.2</td><td>2.26</td><td>&quot;0-0-2-1&quot;</td><td>6</td><td>&quot;AH0&quot;</td><td>2.22</td><td>2.26</td></tr><tr><td>&quot;0-0-3&quot;</td><td>3</td><td>&quot;sunlight&quot;</td><td>2.26</td><td>2.72</td><td>&quot;0-0-3-0&quot;</td><td>7</td><td>&quot;S&quot;</td><td>2.26</td><td>2.39</td></tr><tr><td>&quot;0-0-3&quot;</td><td>3</td><td>&quot;sunlight&quot;</td><td>2.26</td><td>2.72</td><td>&quot;0-0-3-1&quot;</td><td>8</td><td>&quot;AH1&quot;</td><td>2.39</td><td>2.44</td></tr><tr><td>&quot;0-0-3&quot;</td><td>3</td><td>&quot;sunlight&quot;</td><td>2.26</td><td>2.72</td><td>&quot;0-0-3-2&quot;</td><td>9</td><td>&quot;N&quot;</td><td>2.44</td><td>2.52</td></tr></tbody></table></div>"
      ],
      "text/plain": [
       "shape: (10, 10)\n",
       "┌─────────┬────────────┬───────────┬───────────┬───┬───────────┬───────────┬───────────┬───────────┐\n",
       "│ Word_id ┆ Word_tier_ ┆ Word_labe ┆ Word_star ┆ … ┆ Phone_tie ┆ Phone_lab ┆ Phone_sta ┆ Phone_end │\n",
       "│ ---     ┆ index      ┆ l         ┆ t         ┆   ┆ r_index   ┆ el        ┆ rt        ┆ ---       │\n",
       "│ str     ┆ ---        ┆ ---       ┆ ---       ┆   ┆ ---       ┆ ---       ┆ ---       ┆ f64       │\n",
       "│         ┆ i64        ┆ str       ┆ f64       ┆   ┆ i64       ┆ str       ┆ f64       ┆           │\n",
       "╞═════════╪════════════╪═══════════╪═══════════╪═══╪═══════════╪═══════════╪═══════════╪═══════════╡\n",
       "│ 0-0-0   ┆ 0          ┆           ┆ 0.0       ┆ … ┆ 0         ┆           ┆ 0.0       ┆ 0.11      │\n",
       "│ 0-0-1   ┆ 1          ┆ when      ┆ 0.11      ┆ … ┆ 1         ┆ HH        ┆ 0.11      ┆ 1.97      │\n",
       "│ 0-0-1   ┆ 1          ┆ when      ┆ 0.11      ┆ … ┆ 2         ┆ W         ┆ 1.97      ┆ 2.09      │\n",
       "│ 0-0-1   ┆ 1          ┆ when      ┆ 0.11      ┆ … ┆ 3         ┆ EH1       ┆ 2.09      ┆ 2.13      │\n",
       "│ …       ┆ …          ┆ …         ┆ …         ┆ … ┆ …         ┆ …         ┆ …         ┆ …         │\n",
       "│ 0-0-2   ┆ 2          ┆ the       ┆ 2.2       ┆ … ┆ 6         ┆ AH0       ┆ 2.22      ┆ 2.26      │\n",
       "│ 0-0-3   ┆ 3          ┆ sunlight  ┆ 2.26      ┆ … ┆ 7         ┆ S         ┆ 2.26      ┆ 2.39      │\n",
       "│ 0-0-3   ┆ 3          ┆ sunlight  ┆ 2.26      ┆ … ┆ 8         ┆ AH1       ┆ 2.39      ┆ 2.44      │\n",
       "│ 0-0-3   ┆ 3          ┆ sunlight  ┆ 2.26      ┆ … ┆ 9         ┆ N         ┆ 2.44      ┆ 2.52      │\n",
       "└─────────┴────────────┴───────────┴───────────┴───┴───────────┴───────────┴───────────┴───────────┘"
      ]
     },
     "execution_count": 10,
     "metadata": {},
     "output_type": "execute_result"
    }
   ],
   "source": [
    "full_df1.head(10)"
   ]
  },
  {
   "cell_type": "code",
   "execution_count": 11,
   "metadata": {},
   "outputs": [
    {
     "data": {
      "text/plain": [
       "(1568, 6)"
      ]
     },
     "execution_count": 11,
     "metadata": {},
     "output_type": "execute_result"
    }
   ],
   "source": [
    "# 1 row per interval\n",
    "full_df2 = to_df(tg, with_subset=False)\n",
    "\n",
    "full_df2.shape"
   ]
  },
  {
   "cell_type": "code",
   "execution_count": 12,
   "metadata": {},
   "outputs": [
    {
     "data": {
      "text/html": [
       "<div><style>\n",
       ".dataframe > thead > tr,\n",
       ".dataframe > tbody > tr {\n",
       "  text-align: right;\n",
       "  white-space: pre-wrap;\n",
       "}\n",
       "</style>\n",
       "<small>shape: (5, 6)</small><table border=\"1\" class=\"dataframe\"><thead><tr><th>id</th><th>tier_index</th><th>label</th><th>start</th><th>end</th><th>entry_class</th></tr><tr><td>str</td><td>i64</td><td>str</td><td>f64</td><td>f64</td><td>str</td></tr></thead><tbody><tr><td>&quot;0-0-0&quot;</td><td>0</td><td>&quot;&quot;</td><td>0.0</td><td>0.11</td><td>&quot;Word&quot;</td></tr><tr><td>&quot;0-0-1&quot;</td><td>1</td><td>&quot;when&quot;</td><td>0.11</td><td>2.2</td><td>&quot;Word&quot;</td></tr><tr><td>&quot;0-0-2&quot;</td><td>2</td><td>&quot;the&quot;</td><td>2.2</td><td>2.26</td><td>&quot;Word&quot;</td></tr><tr><td>&quot;0-0-3&quot;</td><td>3</td><td>&quot;sunlight&quot;</td><td>2.26</td><td>2.72</td><td>&quot;Word&quot;</td></tr><tr><td>&quot;0-0-4&quot;</td><td>4</td><td>&quot;strikes&quot;</td><td>2.72</td><td>3.22</td><td>&quot;Word&quot;</td></tr></tbody></table></div>"
      ],
      "text/plain": [
       "shape: (5, 6)\n",
       "┌───────┬────────────┬──────────┬───────┬──────┬─────────────┐\n",
       "│ id    ┆ tier_index ┆ label    ┆ start ┆ end  ┆ entry_class │\n",
       "│ ---   ┆ ---        ┆ ---      ┆ ---   ┆ ---  ┆ ---         │\n",
       "│ str   ┆ i64        ┆ str      ┆ f64   ┆ f64  ┆ str         │\n",
       "╞═══════╪════════════╪══════════╪═══════╪══════╪═════════════╡\n",
       "│ 0-0-0 ┆ 0          ┆          ┆ 0.0   ┆ 0.11 ┆ Word        │\n",
       "│ 0-0-1 ┆ 1          ┆ when     ┆ 0.11  ┆ 2.2  ┆ Word        │\n",
       "│ 0-0-2 ┆ 2          ┆ the      ┆ 2.2   ┆ 2.26 ┆ Word        │\n",
       "│ 0-0-3 ┆ 3          ┆ sunlight ┆ 2.26  ┆ 2.72 ┆ Word        │\n",
       "│ 0-0-4 ┆ 4          ┆ strikes  ┆ 2.72  ┆ 3.22 ┆ Word        │\n",
       "└───────┴────────────┴──────────┴───────┴──────┴─────────────┘"
      ]
     },
     "execution_count": 12,
     "metadata": {},
     "output_type": "execute_result"
    }
   ],
   "source": [
    "full_df2.head(5)"
   ]
  },
  {
   "cell_type": "code",
   "execution_count": 13,
   "metadata": {},
   "outputs": [
    {
     "data": {
      "text/html": [
       "<div><style>\n",
       ".dataframe > thead > tr,\n",
       ".dataframe > tbody > tr {\n",
       "  text-align: right;\n",
       "  white-space: pre-wrap;\n",
       "}\n",
       "</style>\n",
       "<small>shape: (5, 6)</small><table border=\"1\" class=\"dataframe\"><thead><tr><th>id</th><th>tier_index</th><th>label</th><th>start</th><th>end</th><th>entry_class</th></tr><tr><td>str</td><td>i64</td><td>str</td><td>f64</td><td>f64</td><td>str</td></tr></thead><tbody><tr><td>&quot;0-0-374-1&quot;</td><td>1186</td><td>&quot;R&quot;</td><td>111.83</td><td>111.92</td><td>&quot;Phone&quot;</td></tr><tr><td>&quot;0-0-375-0&quot;</td><td>1187</td><td>&quot;B&quot;</td><td>111.92</td><td>112.02</td><td>&quot;Phone&quot;</td></tr><tr><td>&quot;0-0-375-1&quot;</td><td>1188</td><td>&quot;L&quot;</td><td>112.02</td><td>112.08</td><td>&quot;Phone&quot;</td></tr><tr><td>&quot;0-0-375-2&quot;</td><td>1189</td><td>&quot;UW1&quot;</td><td>112.08</td><td>112.31</td><td>&quot;Phone&quot;</td></tr><tr><td>&quot;0-0-376-0&quot;</td><td>1190</td><td>&quot;&quot;</td><td>112.31</td><td>115.065034</td><td>&quot;Phone&quot;</td></tr></tbody></table></div>"
      ],
      "text/plain": [
       "shape: (5, 6)\n",
       "┌───────────┬────────────┬───────┬────────┬────────────┬─────────────┐\n",
       "│ id        ┆ tier_index ┆ label ┆ start  ┆ end        ┆ entry_class │\n",
       "│ ---       ┆ ---        ┆ ---   ┆ ---    ┆ ---        ┆ ---         │\n",
       "│ str       ┆ i64        ┆ str   ┆ f64    ┆ f64        ┆ str         │\n",
       "╞═══════════╪════════════╪═══════╪════════╪════════════╪═════════════╡\n",
       "│ 0-0-374-1 ┆ 1186       ┆ R     ┆ 111.83 ┆ 111.92     ┆ Phone       │\n",
       "│ 0-0-375-0 ┆ 1187       ┆ B     ┆ 111.92 ┆ 112.02     ┆ Phone       │\n",
       "│ 0-0-375-1 ┆ 1188       ┆ L     ┆ 112.02 ┆ 112.08     ┆ Phone       │\n",
       "│ 0-0-375-2 ┆ 1189       ┆ UW1   ┆ 112.08 ┆ 112.31     ┆ Phone       │\n",
       "│ 0-0-376-0 ┆ 1190       ┆       ┆ 112.31 ┆ 115.065034 ┆ Phone       │\n",
       "└───────────┴────────────┴───────┴────────┴────────────┴─────────────┘"
      ]
     },
     "execution_count": 13,
     "metadata": {},
     "output_type": "execute_result"
    }
   ],
   "source": [
    "full_df2.tail(5)"
   ]
  },
  {
   "cell_type": "markdown",
   "metadata": {},
   "source": [
    "## Saving a DataFrame\n",
    "\n",
    "To save one of these dataframes, use one of the methods from `polars`, like [`DataFrame.write_csv()`](https://pola-rs.github.io/polars/user-guide/io/csv/)"
   ]
  },
  {
   "cell_type": "code",
   "execution_count": 14,
   "metadata": {},
   "outputs": [],
   "source": [
    "full_df1.write_csv(\"test.csv\")"
   ]
  }
 ],
 "metadata": {
  "kernelspec": {
   "display_name": "venv",
   "language": "python",
   "name": "python3"
  },
  "language_info": {
   "codemirror_mode": {
    "name": "ipython",
    "version": 3
   },
   "file_extension": ".py",
   "mimetype": "text/x-python",
   "name": "python",
   "nbconvert_exporter": "python",
   "pygments_lexer": "ipython3",
   "version": "3.10.7"
  }
 },
 "nbformat": 4,
 "nbformat_minor": 2
}
